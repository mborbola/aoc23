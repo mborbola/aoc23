{
 "cells": [
  {
   "cell_type": "code",
   "execution_count": 64,
   "metadata": {},
   "outputs": [
    {
     "data": {
      "text/plain": [
       "(100, 100)"
      ]
     },
     "execution_count": 64,
     "metadata": {},
     "output_type": "execute_result"
    }
   ],
   "source": [
    "def load_input(filename):\n",
    "    with open(filename) as f:\n",
    "        return [list(line.strip()) for line in f.readlines()]\n",
    "\n",
    "\n",
    "input_map = load_input(\"input.txt\")\n",
    "len(input_map), len(input_map[0])"
   ]
  },
  {
   "cell_type": "code",
   "execution_count": 65,
   "metadata": {},
   "outputs": [
    {
     "name": "stdout",
     "output_type": "stream",
     "text": [
      "['O', 'O', 'O', '.', '.', '.', '.', '.', '.', '#']\n"
     ]
    }
   ],
   "source": [
    "print(sorted(\"O..#.OO...\", reverse=True))"
   ]
  },
  {
   "cell_type": "code",
   "execution_count": 66,
   "metadata": {},
   "outputs": [],
   "source": [
    "def count_load(map):\n",
    "    # north\n",
    "    sum = 0\n",
    "    for i, row in enumerate(map):\n",
    "        sum += row.count(\"O\") * (len(map) - i)\n",
    "\n",
    "    return sum\n",
    "\n",
    "\n",
    "example_solution = load_input(\"example_solution.txt\")\n",
    "assert count_load(example_solution) == 136"
   ]
  },
  {
   "cell_type": "code",
   "execution_count": 67,
   "metadata": {},
   "outputs": [
    {
     "data": {
      "text/plain": [
       "109098"
      ]
     },
     "execution_count": 67,
     "metadata": {},
     "output_type": "execute_result"
    }
   ],
   "source": [
    "def tilt_left(map):\n",
    "    for i, row in enumerate(map):\n",
    "        last = 0\n",
    "        for j, col in enumerate(row):\n",
    "            if col == \"O\":\n",
    "                temp = map[i][last]\n",
    "                map[i][last] = \"O\"\n",
    "                map[i][j] = temp\n",
    "                last += 1\n",
    "            elif col == \"#\":\n",
    "                last = j + 1\n",
    "\n",
    "\n",
    "input_map = load_input(\"input.txt\")\n",
    "\n",
    "transposed_map = list(map(list, zip(*input_map)))\n",
    "\n",
    "tilt_left(transposed_map)\n",
    "\n",
    "final_map = list(map(list, zip(*transposed_map)))\n",
    "\n",
    "count_load(final_map)"
   ]
  }
 ],
 "metadata": {
  "kernelspec": {
   "display_name": "myenv",
   "language": "python",
   "name": "python3"
  },
  "language_info": {
   "codemirror_mode": {
    "name": "ipython",
    "version": 3
   },
   "file_extension": ".py",
   "mimetype": "text/x-python",
   "name": "python",
   "nbconvert_exporter": "python",
   "pygments_lexer": "ipython3",
   "version": "3.11.6"
  }
 },
 "nbformat": 4,
 "nbformat_minor": 2
}
