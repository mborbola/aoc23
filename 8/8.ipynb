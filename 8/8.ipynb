{
 "cells": [
  {
   "cell_type": "code",
   "execution_count": 71,
   "metadata": {},
   "outputs": [
    {
     "data": {
      "text/plain": [
       "('LRRLRLRRRLLRLRRRLRLLRLRLRRLRLRRLRRLRLRLLRRRLRRLLRRRLRRLRRRLRRLRLRLLRRLRLRRLLRRRLLLRRRLLLRRLRLRRLRLLRRRLRRLRRRLRRLLRRRLRRRLRRRLRLRRLRLRRRLRRRLRRLRLRRLLRRRLRRLLRRLRRLRLRLRRRLRLLRRRLRRLRRRLLRRLLLLLRRRLRRLLLRRRLRRRLRRLRLLLLLRLRRRLRRRLRLRRLLLLRLRRRLLRRRLRRRLRLRLRRLRRLRRLRLRLLLRLRRLRRLRRRLRRRLLRRRR',\n",
       " ['RBX = (TMF, KTP)',\n",
       "  'RBP = (MKS, MKS)',\n",
       "  'CGR = (XDR, VDX)',\n",
       "  'KBX = (DGP, JKM)',\n",
       "  'BNJ = (NJC, QRL)'])"
      ]
     },
     "execution_count": 71,
     "metadata": {},
     "output_type": "execute_result"
    }
   ],
   "source": [
    "with open(\"input.txt\", \"r\") as file:\n",
    "    input = file.read().splitlines()\n",
    "\n",
    "instructions = input[0]\n",
    "maps = input[2:]\n",
    "instructions, maps[:5]"
   ]
  },
  {
   "cell_type": "code",
   "execution_count": 72,
   "metadata": {},
   "outputs": [
    {
     "data": {
      "text/plain": [
       "[('RBX', {'L': 'TMF', 'R': 'KTP'}),\n",
       " ('RBP', {'L': 'MKS', 'R': 'MKS'}),\n",
       " ('CGR', {'L': 'XDR', 'R': 'VDX'}),\n",
       " ('KBX', {'L': 'DGP', 'R': 'JKM'}),\n",
       " ('BNJ', {'L': 'NJC', 'R': 'QRL'})]"
      ]
     },
     "execution_count": 72,
     "metadata": {},
     "output_type": "execute_result"
    }
   ],
   "source": [
    "import re\n",
    "\n",
    "\n",
    "def process_map(map):\n",
    "    current, left, right = re.findall(r\"\\b\\w+\\b\", map)\n",
    "    return current, (left, right)\n",
    "\n",
    "\n",
    "processed_map = {}\n",
    "for map in maps:\n",
    "    current_locations, (left, right) = process_map(map)\n",
    "    processed_map[current_locations] = {\"L\": left, \"R\": right}\n",
    "list(processed_map.items())[:5]"
   ]
  },
  {
   "cell_type": "code",
   "execution_count": 73,
   "metadata": {},
   "outputs": [
    {
     "data": {
      "text/plain": [
       "21389"
      ]
     },
     "execution_count": 73,
     "metadata": {},
     "output_type": "execute_result"
    }
   ],
   "source": [
    "def calculate_steps(instructions, map):\n",
    "    steps = 0\n",
    "    current = \"AAA\"\n",
    "    while current != \"ZZZ\":\n",
    "        for instruction in instructions:\n",
    "            current = map[current][instruction]\n",
    "            steps += 1\n",
    "    return steps\n",
    "\n",
    "\n",
    "calculate_steps(instructions, processed_map)"
   ]
  },
  {
   "cell_type": "markdown",
   "metadata": {},
   "source": [
    "# Part 2"
   ]
  },
  {
   "cell_type": "code",
   "execution_count": 74,
   "metadata": {},
   "outputs": [
    {
     "data": {
      "text/plain": [
       "21083806112641"
      ]
     },
     "execution_count": 74,
     "metadata": {},
     "output_type": "execute_result"
    }
   ],
   "source": [
    "import math\n",
    "\n",
    "\n",
    "def calculate_steps_with_start(start, instructions, map):\n",
    "    steps = 0\n",
    "    current = start\n",
    "    # what if there are multiple endings with Z - TESTED! this is not the case\n",
    "    while current[-1] != \"Z\":\n",
    "        for instruction in instructions:\n",
    "            current = map[current][instruction]\n",
    "            steps += 1\n",
    "    return steps\n",
    "\n",
    "\n",
    "locations_ending_with_A = [\n",
    "    location for location in processed_map.keys() if location[-1] == \"A\"\n",
    "]\n",
    "\n",
    "steps_list = [\n",
    "    calculate_steps_with_start(location, instructions, processed_map)\n",
    "    for location in locations_ending_with_A\n",
    "]\n",
    "\n",
    "math.lcm(*steps_list)"
   ]
  },
  {
   "cell_type": "code",
   "execution_count": 75,
   "metadata": {},
   "outputs": [],
   "source": [
    "def bruteforce(starting_locations, instructions, map):\n",
    "    steps = 0\n",
    "    current_locations = starting_locations.copy()\n",
    "    while not all(location[-1] == \"Z\" for location in current_locations):\n",
    "        for instruction in instructions:\n",
    "            new_locations = []\n",
    "            for location in current_locations:\n",
    "                left, right = map[location]\n",
    "                if instruction == \"L\":\n",
    "                    new_locations.append(left)\n",
    "                else:\n",
    "                    new_locations.append(right)\n",
    "            current_locations = new_locations\n",
    "            steps += 1\n",
    "        print(f\"\\rStep {steps} {current_locations}\", end=\"\")\n",
    "    return steps\n",
    "\n",
    "\n",
    "# bruteforce(locations_ending_with_A, instructions, processed_map)"
   ]
  }
 ],
 "metadata": {
  "kernelspec": {
   "display_name": "myenv",
   "language": "python",
   "name": "python3"
  },
  "language_info": {
   "codemirror_mode": {
    "name": "ipython",
    "version": 3
   },
   "file_extension": ".py",
   "mimetype": "text/x-python",
   "name": "python",
   "nbconvert_exporter": "python",
   "pygments_lexer": "ipython3",
   "version": "3.11.6"
  }
 },
 "nbformat": 4,
 "nbformat_minor": 2
}
