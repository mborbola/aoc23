{
 "cells": [
  {
   "cell_type": "code",
   "execution_count": 10,
   "metadata": {},
   "outputs": [
    {
     "data": {
      "text/plain": [
       "('LRRLRLRRRLLRLRRRLRLLRLRLRRLRLRRLRRLRLRLLRRRLRRLLRRRLRRLRRRLRRLRLRLLRRLRLRRLLRRRLLLRRRLLLRRLRLRRLRLLRRRLRRLRRRLRRLLRRRLRRRLRRRLRLRRLRLRRRLRRRLRRLRLRRLLRRRLRRLLRRLRRLRLRLRRRLRLLRRRLRRLRRRLLRRLLLLLRRRLRRLLLRRRLRRRLRRLRLLLLLRLRRRLRRRLRLRRLLLLRLRRRLLRRRLRRRLRLRLRRLRRLRRLRLRLLLRLRRLRRLRRRLRRRLLRRRR',\n",
       " ['RBX = (TMF, KTP)',\n",
       "  'RBP = (MKS, MKS)',\n",
       "  'CGR = (XDR, VDX)',\n",
       "  'KBX = (DGP, JKM)',\n",
       "  'BNJ = (NJC, QRL)'])"
      ]
     },
     "execution_count": 10,
     "metadata": {},
     "output_type": "execute_result"
    }
   ],
   "source": [
    "with open(\"input.txt\", \"r\") as file:\n",
    "    input = file.read().splitlines()\n",
    "\n",
    "instructions = input[0]\n",
    "maps = input[2:]\n",
    "instructions, maps[:5]"
   ]
  },
  {
   "cell_type": "code",
   "execution_count": 11,
   "metadata": {},
   "outputs": [
    {
     "data": {
      "text/plain": [
       "[('RBX', ('TMF', 'KTP')),\n",
       " ('RBP', ('MKS', 'MKS')),\n",
       " ('CGR', ('XDR', 'VDX')),\n",
       " ('KBX', ('DGP', 'JKM')),\n",
       " ('BNJ', ('NJC', 'QRL'))]"
      ]
     },
     "execution_count": 11,
     "metadata": {},
     "output_type": "execute_result"
    }
   ],
   "source": [
    "import re\n",
    "\n",
    "\n",
    "def process_map(map):\n",
    "    current, left, right = re.findall(r\"\\b\\w+\\b\", map)\n",
    "    return current, (left, right)\n",
    "\n",
    "\n",
    "processed_map = {}\n",
    "for map in maps:\n",
    "    current, (left, right) = process_map(map)\n",
    "    processed_map[current] = (left, right)\n",
    "list(processed_map.items())[:5]"
   ]
  },
  {
   "cell_type": "code",
   "execution_count": 13,
   "metadata": {},
   "outputs": [
    {
     "data": {
      "text/plain": [
       "21389"
      ]
     },
     "execution_count": 13,
     "metadata": {},
     "output_type": "execute_result"
    }
   ],
   "source": [
    "def calculate_steps(instructions, map):\n",
    "    steps = 0\n",
    "    current = \"AAA\"\n",
    "    while current != \"ZZZ\":\n",
    "        for instruction in instructions:\n",
    "            left, right = map[current]\n",
    "            if instruction == \"L\":\n",
    "                current = left\n",
    "            else:\n",
    "                current = right\n",
    "            steps += 1\n",
    "    return steps\n",
    "\n",
    "\n",
    "calculate_steps(instructions, processed_map)"
   ]
  }
 ],
 "metadata": {
  "kernelspec": {
   "display_name": "myenv",
   "language": "python",
   "name": "python3"
  },
  "language_info": {
   "codemirror_mode": {
    "name": "ipython",
    "version": 3
   },
   "file_extension": ".py",
   "mimetype": "text/x-python",
   "name": "python",
   "nbconvert_exporter": "python",
   "pygments_lexer": "ipython3",
   "version": "3.11.6"
  }
 },
 "nbformat": 4,
 "nbformat_minor": 2
}
