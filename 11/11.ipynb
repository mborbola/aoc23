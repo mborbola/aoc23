{
 "cells": [
  {
   "cell_type": "code",
   "execution_count": 12,
   "metadata": {},
   "outputs": [
    {
     "data": {
      "text/plain": [
       "(140, 140, '.')"
      ]
     },
     "execution_count": 12,
     "metadata": {},
     "output_type": "execute_result"
    }
   ],
   "source": [
    "space = []\n",
    "\n",
    "with open(\"input.txt\") as f:\n",
    "    for line in f:\n",
    "        space.append(list(line.strip()))\n",
    "\n",
    "len(space), len(space[1]), space[1][1]"
   ]
  },
  {
   "cell_type": "code",
   "execution_count": 13,
   "metadata": {},
   "outputs": [
    {
     "data": {
      "text/plain": [
       "(145, 145, '.')"
      ]
     },
     "execution_count": 13,
     "metadata": {},
     "output_type": "execute_result"
    }
   ],
   "source": [
    "def flip_grid(grid):\n",
    "    return list(map(list, zip(*grid)))\n",
    "\n",
    "\n",
    "def expand_space(space):\n",
    "    for _ in range(2):\n",
    "        new_space = []\n",
    "        for row in space:\n",
    "            new_space.append(row)\n",
    "            str_row = str(row)\n",
    "            if str_row.find(\"#\") == -1:\n",
    "                new_space.append(row)\n",
    "        flipped_grid = flip_grid(new_space)\n",
    "        space = flipped_grid\n",
    "\n",
    "    return flipped_grid\n",
    "\n",
    "\n",
    "expanded_space = expand_space(space)\n",
    "\n",
    "# only one direction yet\n",
    "len(expanded_space), len(expanded_space[1]), expanded_space[1][1]"
   ]
  },
  {
   "cell_type": "code",
   "execution_count": 14,
   "metadata": {},
   "outputs": [
    {
     "data": {
      "text/plain": [
       "455"
      ]
     },
     "execution_count": 14,
     "metadata": {},
     "output_type": "execute_result"
    }
   ],
   "source": [
    "def get_galaxies(space):\n",
    "    galaxies = []\n",
    "    for i in range(len(space)):\n",
    "        for j in range(len(space[i])):\n",
    "            if space[i][j] == \"#\":\n",
    "                galaxies.append((i, j))\n",
    "    return galaxies\n",
    "\n",
    "\n",
    "galaxies = get_galaxies(expanded_space)\n",
    "\n",
    "len(galaxies)"
   ]
  },
  {
   "cell_type": "code",
   "execution_count": 15,
   "metadata": {},
   "outputs": [
    {
     "data": {
      "text/plain": [
       "103285"
      ]
     },
     "execution_count": 15,
     "metadata": {},
     "output_type": "execute_result"
    }
   ],
   "source": [
    "def get_pairs(galaxies):\n",
    "    pairs = []\n",
    "    for i in range(len(galaxies)):\n",
    "        for j in range(i + 1, len(galaxies)):\n",
    "            pairs.append((galaxies[i], galaxies[j]))\n",
    "    return pairs\n",
    "\n",
    "\n",
    "pairs = get_pairs(galaxies)\n",
    "len(pairs)"
   ]
  },
  {
   "cell_type": "code",
   "execution_count": 16,
   "metadata": {},
   "outputs": [
    {
     "name": "stdout",
     "output_type": "stream",
     "text": [
      "All test cases pass\n"
     ]
    },
    {
     "data": {
      "text/plain": [
       "10228230"
      ]
     },
     "execution_count": 16,
     "metadata": {},
     "output_type": "execute_result"
    }
   ],
   "source": [
    "def shortest_distance(galaxy1, galaxy2):\n",
    "    return abs(galaxy1[0] - galaxy2[0]) + abs(galaxy1[1] - galaxy2[1])\n",
    "\n",
    "\n",
    "def test_shortest_distance():\n",
    "    # (0, 0), (0, 0)\n",
    "    assert shortest_distance((0, 0), (0, 0)) == 0\n",
    "\n",
    "    # galax 1: (0, 4), galaxy 7: (10, 9)\n",
    "    assert shortest_distance((0, 4), (10, 9)) == 15\n",
    "\n",
    "    # galaxy 3: (2, 0), galaxy 6: (7, 12)\n",
    "    assert shortest_distance((2, 0), (7, 12)) == 17\n",
    "\n",
    "    print(\"All test cases pass\")\n",
    "\n",
    "\n",
    "test_shortest_distance()\n",
    "\n",
    "distances = []\n",
    "for pair in pairs:\n",
    "    distances.append(shortest_distance(pair[0], pair[1]))\n",
    "\n",
    "sum(distances)"
   ]
  }
 ],
 "metadata": {
  "kernelspec": {
   "display_name": "myenv",
   "language": "python",
   "name": "python3"
  },
  "language_info": {
   "codemirror_mode": {
    "name": "ipython",
    "version": 3
   },
   "file_extension": ".py",
   "mimetype": "text/x-python",
   "name": "python",
   "nbconvert_exporter": "python",
   "pygments_lexer": "ipython3",
   "version": "3.11.6"
  }
 },
 "nbformat": 4,
 "nbformat_minor": 2
}
