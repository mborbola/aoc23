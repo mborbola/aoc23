{
 "cells": [
  {
   "cell_type": "code",
   "execution_count": 135,
   "metadata": {},
   "outputs": [
    {
     "data": {
      "text/plain": [
       "(140, 140, '.')"
      ]
     },
     "execution_count": 135,
     "metadata": {},
     "output_type": "execute_result"
    }
   ],
   "source": [
    "space = []\n",
    "\n",
    "with open(\"input.txt\") as f:\n",
    "    for line in f:\n",
    "        space.append(list(line.strip()))\n",
    "\n",
    "len(space), len(space[1]), space[1][1]"
   ]
  },
  {
   "cell_type": "code",
   "execution_count": 136,
   "metadata": {},
   "outputs": [
    {
     "data": {
      "text/plain": [
       "(145, 145, '.')"
      ]
     },
     "execution_count": 136,
     "metadata": {},
     "output_type": "execute_result"
    }
   ],
   "source": [
    "def flip_grid(grid):\n",
    "    return list(map(list, zip(*grid)))\n",
    "\n",
    "\n",
    "def expand_space(space):\n",
    "    for _ in range(2):\n",
    "        new_space = []\n",
    "        for row in space:\n",
    "            new_space.append(row)\n",
    "            str_row = str(row)\n",
    "            if str_row.find(\"#\") == -1:\n",
    "                new_space.append(row)\n",
    "        flipped_grid = flip_grid(new_space)\n",
    "        space = flipped_grid\n",
    "\n",
    "    return flipped_grid\n",
    "\n",
    "\n",
    "expanded_space = expand_space(space)\n",
    "\n",
    "# only one direction yet\n",
    "len(expanded_space), len(expanded_space[1]), expanded_space[1][1]"
   ]
  },
  {
   "cell_type": "code",
   "execution_count": 137,
   "metadata": {},
   "outputs": [
    {
     "data": {
      "text/plain": [
       "455"
      ]
     },
     "execution_count": 137,
     "metadata": {},
     "output_type": "execute_result"
    }
   ],
   "source": [
    "def get_galaxies(space):\n",
    "    galaxies = []\n",
    "    for i in range(len(space)):\n",
    "        for j in range(len(space[i])):\n",
    "            if space[i][j] == \"#\":\n",
    "                galaxies.append((i, j))\n",
    "    return galaxies\n",
    "\n",
    "\n",
    "galaxies_in_expanded_space = get_galaxies(expanded_space)\n",
    "\n",
    "len(galaxies_in_expanded_space)"
   ]
  },
  {
   "cell_type": "code",
   "execution_count": 138,
   "metadata": {},
   "outputs": [
    {
     "data": {
      "text/plain": [
       "103285"
      ]
     },
     "execution_count": 138,
     "metadata": {},
     "output_type": "execute_result"
    }
   ],
   "source": [
    "def get_pairs(galaxies):\n",
    "    pairs = []\n",
    "    for i in range(len(galaxies)):\n",
    "        for j in range(i + 1, len(galaxies)):\n",
    "            pairs.append((galaxies[i], galaxies[j]))\n",
    "    return pairs\n",
    "\n",
    "\n",
    "pairs = get_pairs(galaxies_in_expanded_space)\n",
    "len(pairs)"
   ]
  },
  {
   "cell_type": "code",
   "execution_count": 139,
   "metadata": {},
   "outputs": [
    {
     "name": "stdout",
     "output_type": "stream",
     "text": [
      "All test cases pass\n"
     ]
    },
    {
     "data": {
      "text/plain": [
       "10228230"
      ]
     },
     "execution_count": 139,
     "metadata": {},
     "output_type": "execute_result"
    }
   ],
   "source": [
    "def shortest_distance(galaxy1, galaxy2):\n",
    "    return abs(galaxy1[0] - galaxy2[0]) + abs(galaxy1[1] - galaxy2[1])\n",
    "\n",
    "\n",
    "def test_shortest_distance():\n",
    "    # (0, 0), (0, 0)\n",
    "    assert shortest_distance((0, 0), (0, 0)) == 0\n",
    "\n",
    "    # galax 1: (0, 4), galaxy 7: (10, 9)\n",
    "    assert shortest_distance((0, 4), (10, 9)) == 15\n",
    "\n",
    "    # galaxy 3: (2, 0), galaxy 6: (7, 12)\n",
    "    assert shortest_distance((2, 0), (7, 12)) == 17\n",
    "\n",
    "    print(\"All test cases pass\")\n",
    "\n",
    "\n",
    "test_shortest_distance()\n",
    "\n",
    "distances = []\n",
    "for pair in pairs:\n",
    "    distances.append(shortest_distance(pair[0], pair[1]))\n",
    "\n",
    "sum(distances)"
   ]
  },
  {
   "cell_type": "markdown",
   "metadata": {},
   "source": [
    "# Part 2"
   ]
  },
  {
   "cell_type": "code",
   "execution_count": 140,
   "metadata": {},
   "outputs": [
    {
     "data": {
      "text/plain": [
       "(5, 5)"
      ]
     },
     "execution_count": 140,
     "metadata": {},
     "output_type": "execute_result"
    }
   ],
   "source": [
    "def get_empty_rows_and_columns(space):\n",
    "    empty_rows = []\n",
    "    empty_columns = []\n",
    "    for i in range(len(space)):\n",
    "        if str(space[i]).find(\"#\") == -1:\n",
    "            empty_rows.append(i)\n",
    "    flipped_space = flip_grid(space)\n",
    "    for j in range(len(flipped_space)):\n",
    "        if str(flipped_space[j]).find(\"#\") == -1:\n",
    "            empty_columns.append(j)\n",
    "    return empty_rows, empty_columns\n",
    "\n",
    "\n",
    "empty_rows, empty_columns = get_empty_rows_and_columns(space)\n",
    "len(empty_rows), len(empty_columns)"
   ]
  },
  {
   "cell_type": "code",
   "execution_count": 141,
   "metadata": {},
   "outputs": [
    {
     "data": {
      "text/plain": [
       "(455, 103285)"
      ]
     },
     "execution_count": 141,
     "metadata": {},
     "output_type": "execute_result"
    }
   ],
   "source": [
    "galaxies_in_normal_space = get_galaxies(space)\n",
    "\n",
    "pairs_in_normal_space = get_pairs(galaxies_in_normal_space)\n",
    "len(galaxies_in_normal_space), len(pairs_in_normal_space)"
   ]
  },
  {
   "cell_type": "code",
   "execution_count": 142,
   "metadata": {},
   "outputs": [
    {
     "data": {
      "text/plain": [
       "447073334102"
      ]
     },
     "execution_count": 142,
     "metadata": {},
     "output_type": "execute_result"
    }
   ],
   "source": [
    "def shortest_distance_with_empty_data(galaxy1, galaxy2, empty_rows, empty_columns):\n",
    "    g1x, g1y = galaxy1\n",
    "    g2x, g2y = galaxy2\n",
    "    shortest = shortest_distance(galaxy1, galaxy2)\n",
    "    empty_distance = 1000000\n",
    "    for row in empty_rows:\n",
    "        if g1x < row < g2x or g2x < row < g1x:\n",
    "            shortest += empty_distance - 1\n",
    "    for column in empty_columns:\n",
    "        if g1y < column < g2y or g2y < column < g1y:\n",
    "            shortest += empty_distance - 1\n",
    "    return shortest\n",
    "\n",
    "\n",
    "distances_part_2 = []\n",
    "for pair in pairs_in_normal_space:\n",
    "    distances_part_2.append(\n",
    "        shortest_distance_with_empty_data(pair[0], pair[1], empty_rows, empty_columns)\n",
    "    )\n",
    "\n",
    "sum(distances_part_2)"
   ]
  }
 ],
 "metadata": {
  "kernelspec": {
   "display_name": "myenv",
   "language": "python",
   "name": "python3"
  },
  "language_info": {
   "codemirror_mode": {
    "name": "ipython",
    "version": 3
   },
   "file_extension": ".py",
   "mimetype": "text/x-python",
   "name": "python",
   "nbconvert_exporter": "python",
   "pygments_lexer": "ipython3",
   "version": "3.11.6"
  }
 },
 "nbformat": 4,
 "nbformat_minor": 2
}
