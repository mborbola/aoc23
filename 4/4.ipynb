{
 "cells": [
  {
   "cell_type": "code",
   "execution_count": 1,
   "metadata": {},
   "outputs": [
    {
     "name": "stdout",
     "output_type": "stream",
     "text": [
      "['Card   1: 69 61 27 58 89 52 81 94 40 51 | 43 40 52 90 37 97 89 80 69 42 51 70 94 58 10 73 21 29 61 63 57 79 81 27 35', 'Card   2:  5 75 37 76 98 32 24 83 44 50 | 80 75 91  5 33 52 31 96 83 92 46 98 55 65 48 24 44  4 32 60 88 37 76 50 77', 'Card   3: 37 39 43 53 47 20 50 56 78 65 | 80 56 32 78 72 97 40 77 17 50 87 99 36 93 63 19 39 59 44 52 23 75  9 51 43', 'Card   4:  6 25 31 60  2 50 89 67 82 16 | 65 89  5 67 68 53 50  6 51 25 96 32  2 16 41 60 63 90 82 30 98 31 75 14  7', 'Card   5: 43 39 98 45 33 87 36 23 61 66 | 93 61  4 21 47 32 94 99 45 23 87 64 92 43 33  5 83 16 98 44 39 77 66 18 36']\n"
     ]
    }
   ],
   "source": [
    "lines = []\n",
    "\n",
    "with open('input.txt', 'r') as file:\n",
    "    for line in file:\n",
    "        lines.append(line.strip())\n",
    "print(lines[0:5])"
   ]
  },
  {
   "cell_type": "code",
   "execution_count": 7,
   "metadata": {},
   "outputs": [
    {
     "name": "stdout",
     "output_type": "stream",
     "text": [
      "{'id': 2, 'winning_numbers': ['5', '75', '37', '76', '98', '32', '24', '83', '44', '50'], 'numbers_you_have': ['80', '75', '91', '5', '33', '52', '31', '96', '83', '92', '46', '98', '55', '65', '48', '24', '44', '4', '32', '60', '88', '37', '76', '50', '77']}\n"
     ]
    }
   ],
   "source": [
    "def convert_to_card_format(s):\n",
    "    card_id = int(s.split(':')[0].split()[1])\n",
    "\n",
    "    # Split into winner\n",
    "    number_sets = s.split(':')[1].split('|')\n",
    "\n",
    "    winning_numbers = number_sets[0].split()\n",
    "    numbers_you_have = number_sets[1].split()\n",
    "\n",
    "    card = {\"id\": card_id, \"winning_numbers\": winning_numbers, \"numbers_you_have\": numbers_you_have}\n",
    "\n",
    "    return card\n",
    "\n",
    "print(convert_to_card_format(lines[1]))"
   ]
  },
  {
   "cell_type": "code",
   "execution_count": 11,
   "metadata": {},
   "outputs": [
    {
     "name": "stdout",
     "output_type": "stream",
     "text": [
      "[8, 2, 2, 1, 0, 0]\n",
      "13\n"
     ]
    }
   ],
   "source": [
    "def calculate_card_point(card):\n",
    "    matching = [number for number in card[\"numbers_you_have\"] if number in card[\"winning_numbers\"]]\n",
    "    if len(matching) == 0:\n",
    "        return 0\n",
    "    return 2**(len(matching)-1)\n",
    "\n",
    "test_lines=\"\"\"\n",
    "Card 1: 41 48 83 86 17 | 83 86  6 31 17  9 48 53\n",
    "Card 2: 13 32 20 16 61 | 61 30 68 82 17 32 24 19\n",
    "Card 3:  1 21 53 59 44 | 69 82 63 72 16 21 14  1\n",
    "Card 4: 41 92 73 84 69 | 59 84 76 51 58  5 54 83\n",
    "Card 5: 87 83 26 28 32 | 88 30 70 12 93 22 82 36\n",
    "Card 6: 31 18 13 56 72 | 74 77 10 23 35 67 36 11\n",
    "\"\"\".strip().split(\"\\n\")\n",
    "\n",
    "test_cards = [convert_to_card_format(line) for line in test_lines]\n",
    "test_card_points = []\n",
    "for card in test_cards:\n",
    "    test_card_points.append(calculate_card_point(card))\n",
    "\n",
    "print(test_card_points)\n",
    "print(sum(test_card_points))"
   ]
  },
  {
   "cell_type": "code",
   "execution_count": 13,
   "metadata": {},
   "outputs": [
    {
     "name": "stdout",
     "output_type": "stream",
     "text": [
      "[512, 512, 16, 512, 512, 4, 512, 512, 512, 32, 2, 4, 1, 512, 8, 8, 0, 16, 2, 1, 2, 4, 2, 1, 0, 512, 0, 4, 32, 32, 128, 64, 1, 16, 16, 0, 2, 2, 0, 0, 512, 512, 512, 512, 32, 16, 512, 64, 8, 16, 256, 4, 8, 32, 2, 4, 4, 2, 2, 1, 0, 1, 128, 256, 512, 32, 128, 512, 32, 512, 8, 512, 8, 16, 64, 16, 0, 4, 2, 1, 1, 0, 512, 2, 16, 16, 16, 512, 4, 2, 512, 64, 64, 2, 1, 4, 32, 4, 4, 4, 0, 1, 0, 512, 512, 512, 512, 4, 1, 128, 2, 4, 64, 1, 32, 32, 32, 8, 8, 8, 2, 1, 0, 0, 1, 512, 512, 8, 512, 32, 128, 512, 32, 512, 512, 8, 1, 64, 0, 8, 1, 2, 4, 2, 2, 1, 0, 128, 4, 512, 512, 512, 512, 256, 64, 16, 256, 4, 4, 4, 1, 0, 4, 4, 2, 1, 0, 512, 512, 128, 128, 64, 8, 1, 512, 64, 16, 2, 256, 256, 32, 1, 32, 2, 2, 1, 0, 0, 0, 128, 512, 512, 512, 8, 2, 32, 512, 256, 512, 8, 64, 8, 128, 4, 8, 64, 32, 2, 4, 4, 0, 0, 0]\n",
      "26914\n"
     ]
    }
   ],
   "source": [
    "cards = [convert_to_card_format(line) for line in lines]\n",
    "card_points = []\n",
    "\n",
    "for card in cards:\n",
    "    card_points.append(calculate_card_point(card))\n",
    "\n",
    "print(card_points)\n",
    "print(sum(card_points))"
   ]
  },
  {
   "cell_type": "markdown",
   "metadata": {},
   "source": [
    "# Part 2"
   ]
  },
  {
   "cell_type": "code",
   "execution_count": 15,
   "metadata": {},
   "outputs": [
    {
     "name": "stdout",
     "output_type": "stream",
     "text": [
      "[4, 2, 2, 1, 0, 0]\n"
     ]
    }
   ],
   "source": [
    "def calculate_card_winners(card):\n",
    "    return len([number for number in card[\"numbers_you_have\"] if number in card[\"winning_numbers\"]])\n",
    "    \n",
    "test_card_points = []\n",
    "for card in test_cards:\n",
    "    test_card_points.append(calculate_card_winners(card))\n",
    "\n",
    "print(test_card_points)"
   ]
  },
  {
   "cell_type": "code",
   "execution_count": 18,
   "metadata": {},
   "outputs": [
    {
     "name": "stdout",
     "output_type": "stream",
     "text": [
      "{'id': 2, 'winning_numbers': ['5', '75', '37', '76', '98', '32', '24', '83', '44', '50'], 'numbers_you_have': ['80', '75', '91', '5', '33', '52', '31', '96', '83', '92', '46', '98', '55', '65', '48', '24', '44', '4', '32', '60', '88', '37', '76', '50', '77'], 'count': 1, 'winners': 10}\n"
     ]
    }
   ],
   "source": [
    "def convert_to_card_format_with_count(s):\n",
    "    card_id = int(s.split(':')[0].split()[1])\n",
    "\n",
    "    # Split into winner\n",
    "    number_sets = s.split(':')[1].split('|')\n",
    "\n",
    "    winning_numbers = number_sets[0].split()\n",
    "    numbers_you_have = number_sets[1].split()\n",
    "\n",
    "    card = {\"id\": card_id, \"winning_numbers\": winning_numbers, \"numbers_you_have\": numbers_you_have, \"count\": 1, \"winners\": 0}\n",
    "    card[\"winners\"] = calculate_card_winners(card)\n",
    "\n",
    "    return card\n",
    "\n",
    "print(convert_to_card_format_with_count(lines[1]))"
   ]
  },
  {
   "cell_type": "code",
   "execution_count": 27,
   "metadata": {},
   "outputs": [
    {
     "name": "stdout",
     "output_type": "stream",
     "text": [
      "[10, 10, 5, 10, 10, 3, 10, 10, 10, 6, 2, 3, 1, 10, 4, 4, 0, 5, 2, 1, 2, 3, 2, 1, 0, 10, 0, 3, 6, 6, 8, 7, 1, 5, 5, 0, 2, 2, 0, 0, 10, 10, 10, 10, 6, 5, 10, 7, 4, 5, 9, 3, 4, 6, 2, 3, 3, 2, 2, 1, 0, 1, 8, 9, 10, 6, 8, 10, 6, 10, 4, 10, 4, 5, 7, 5, 0, 3, 2, 1, 1, 0, 10, 2, 5, 5, 5, 10, 3, 2, 10, 7, 7, 2, 1, 3, 6, 3, 3, 3, 0, 1, 0, 10, 10, 10, 10, 3, 1, 8, 2, 3, 7, 1, 6, 6, 6, 4, 4, 4, 2, 1, 0, 0, 1, 10, 10, 4, 10, 6, 8, 10, 6, 10, 10, 4, 1, 7, 0, 4, 1, 2, 3, 2, 2, 1, 0, 8, 3, 10, 10, 10, 10, 9, 7, 5, 9, 3, 3, 3, 1, 0, 3, 3, 2, 1, 0, 10, 10, 8, 8, 7, 4, 1, 10, 7, 5, 2, 9, 9, 6, 1, 6, 2, 2, 1, 0, 0, 0, 8, 10, 10, 10, 4, 2, 6, 10, 9, 10, 4, 7, 4, 8, 3, 4, 7, 6, 2, 3, 3, 0, 0, 0]\n",
      "[1, 2, 4, 8, 16, 32, 64, 128, 252, 472, 944, 1887, 3772, 6600, 9420, 16937, 33402, 33338, 66548, 123424, 229911, 269850, 539700, 816151, 1625702, 1, 2, 2, 4, 8, 16, 30, 60, 120, 180, 356, 347, 694, 1388, 875, 1, 2, 4, 8, 16, 32, 64, 128, 256, 512, 1024, 1999, 3996, 7732, 15456, 28273, 56546, 93576, 187152, 346031, 533184, 1, 2, 3, 6, 12, 24, 48, 96, 192, 384, 766, 1520, 3037, 6074, 11638, 23276, 21756, 43464, 83891, 167590, 174431, 1, 2, 4, 8, 14, 28, 56, 112, 220, 432, 682, 1363, 2726, 5452, 6815, 13630, 27232, 48580, 96478, 82628, 138024, 1, 2, 4, 8, 16, 32, 64, 96, 176, 352, 608, 1215, 1644, 3284, 6560, 13056, 26112, 51872, 102529, 196854, 26113, 1, 2, 3, 6, 12, 24, 48, 96, 186, 372, 744, 1488, 2950, 5897, 8844, 8598, 15708, 31416, 47028, 94056, 147726, 288811, 436538, 1, 2, 4, 8, 16, 30, 60, 120, 240, 479, 958, 1916, 3832, 7660, 14114, 4402, 4882, 9764, 19528, 34175, 1, 2, 4, 8, 16, 32, 64, 128, 192, 384, 736, 1467, 2908, 5080, 10160, 19936, 29520, 59040, 117952, 206384, 24312, 22845, 1, 2, 4, 8, 16, 32, 64, 128, 224, 431, 862, 1724, 3446, 6824, 13640, 26418, 52836, 102226, 190460, 379196, 731543, 1272626, 1265802, 886606]\n",
      "13080971\n"
     ]
    }
   ],
   "source": [
    "cards_with_counts = [convert_to_card_format_with_count(line) for line in lines]\n",
    "\n",
    "print([c[\"winners\"] for c in cards_with_counts])\n",
    "\n",
    "for i, card in enumerate(cards_with_counts):\n",
    "    for j in range(card[\"winners\"]):\n",
    "        cards_with_counts[i+j+1][\"count\"] += cards_with_counts[i][\"count\"]\n",
    "\n",
    "counts = [c[\"count\"] for c in cards_with_counts]\n",
    "print(counts)\n",
    "print(sum(counts))"
   ]
  }
 ],
 "metadata": {
  "kernelspec": {
   "display_name": "myenv",
   "language": "python",
   "name": "python3"
  },
  "language_info": {
   "codemirror_mode": {
    "name": "ipython",
    "version": 3
   },
   "file_extension": ".py",
   "mimetype": "text/x-python",
   "name": "python",
   "nbconvert_exporter": "python",
   "pygments_lexer": "ipython3",
   "version": "3.11.6"
  }
 },
 "nbformat": 4,
 "nbformat_minor": 2
}
