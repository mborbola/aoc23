{
 "cells": [
  {
   "cell_type": "code",
   "execution_count": 1,
   "metadata": {},
   "outputs": [
    {
     "name": "stdout",
     "output_type": "stream",
     "text": [
      "['Card   1: 69 61 27 58 89 52 81 94 40 51 | 43 40 52 90 37 97 89 80 69 42 51 70 94 58 10 73 21 29 61 63 57 79 81 27 35', 'Card   2:  5 75 37 76 98 32 24 83 44 50 | 80 75 91  5 33 52 31 96 83 92 46 98 55 65 48 24 44  4 32 60 88 37 76 50 77', 'Card   3: 37 39 43 53 47 20 50 56 78 65 | 80 56 32 78 72 97 40 77 17 50 87 99 36 93 63 19 39 59 44 52 23 75  9 51 43', 'Card   4:  6 25 31 60  2 50 89 67 82 16 | 65 89  5 67 68 53 50  6 51 25 96 32  2 16 41 60 63 90 82 30 98 31 75 14  7', 'Card   5: 43 39 98 45 33 87 36 23 61 66 | 93 61  4 21 47 32 94 99 45 23 87 64 92 43 33  5 83 16 98 44 39 77 66 18 36']\n"
     ]
    }
   ],
   "source": [
    "lines = []\n",
    "\n",
    "with open('input.txt', 'r') as file:\n",
    "    for line in file:\n",
    "        lines.append(line.strip())\n",
    "print(lines[0:5])"
   ]
  },
  {
   "cell_type": "code",
   "execution_count": 7,
   "metadata": {},
   "outputs": [
    {
     "name": "stdout",
     "output_type": "stream",
     "text": [
      "{'id': 2, 'winning_numbers': ['5', '75', '37', '76', '98', '32', '24', '83', '44', '50'], 'numbers_you_have': ['80', '75', '91', '5', '33', '52', '31', '96', '83', '92', '46', '98', '55', '65', '48', '24', '44', '4', '32', '60', '88', '37', '76', '50', '77']}\n"
     ]
    }
   ],
   "source": [
    "def convert_to_card_format(s):\n",
    "    card_id = int(s.split(':')[0].split()[1])\n",
    "\n",
    "    # Split into winner\n",
    "    number_sets = s.split(':')[1].split('|')\n",
    "\n",
    "    winning_numbers = number_sets[0].split()\n",
    "    numbers_you_have = number_sets[1].split()\n",
    "\n",
    "    card = {\"id\": card_id, \"winning_numbers\": winning_numbers, \"numbers_you_have\": numbers_you_have}\n",
    "\n",
    "    return card\n",
    "\n",
    "print(convert_to_card_format(lines[1]))"
   ]
  },
  {
   "cell_type": "code",
   "execution_count": 11,
   "metadata": {},
   "outputs": [
    {
     "name": "stdout",
     "output_type": "stream",
     "text": [
      "[8, 2, 2, 1, 0, 0]\n",
      "13\n"
     ]
    }
   ],
   "source": [
    "def calculate_card_point(card):\n",
    "    matching = [number for number in card[\"numbers_you_have\"] if number in card[\"winning_numbers\"]]\n",
    "    if len(matching) == 0:\n",
    "        return 0\n",
    "    return 2**(len(matching)-1)\n",
    "\n",
    "test_lines=\"\"\"\n",
    "Card 1: 41 48 83 86 17 | 83 86  6 31 17  9 48 53\n",
    "Card 2: 13 32 20 16 61 | 61 30 68 82 17 32 24 19\n",
    "Card 3:  1 21 53 59 44 | 69 82 63 72 16 21 14  1\n",
    "Card 4: 41 92 73 84 69 | 59 84 76 51 58  5 54 83\n",
    "Card 5: 87 83 26 28 32 | 88 30 70 12 93 22 82 36\n",
    "Card 6: 31 18 13 56 72 | 74 77 10 23 35 67 36 11\n",
    "\"\"\".strip().split(\"\\n\")\n",
    "\n",
    "test_cards = [convert_to_card_format(line) for line in test_lines]\n",
    "test_card_points = []\n",
    "for card in test_cards:\n",
    "    test_card_points.append(calculate_card_point(card))\n",
    "\n",
    "print(test_card_points)\n",
    "print(sum(test_card_points))"
   ]
  },
  {
   "cell_type": "code",
   "execution_count": 12,
   "metadata": {},
   "outputs": [],
   "source": [
    "cards = [convert_to_card_format(line) for line in lines]\n",
    "card_points = []\n",
    "\n",
    "for card in cards:\n",
    "    card_points.append(calculate_card_point(card))\n",
    "\n",
    "print(card_points)\n",
    "print(sum(card_points))"
   ]
  }
 ],
 "metadata": {
  "kernelspec": {
   "display_name": "myenv",
   "language": "python",
   "name": "python3"
  },
  "language_info": {
   "codemirror_mode": {
    "name": "ipython",
    "version": 3
   },
   "file_extension": ".py",
   "mimetype": "text/x-python",
   "name": "python",
   "nbconvert_exporter": "python",
   "pygments_lexer": "ipython3",
   "version": "3.11.6"
  }
 },
 "nbformat": 4,
 "nbformat_minor": 2
}
