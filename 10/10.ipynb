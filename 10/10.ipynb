{
 "cells": [
  {
   "cell_type": "code",
   "execution_count": 58,
   "metadata": {},
   "outputs": [
    {
     "data": {
      "text/plain": [
       "'7'"
      ]
     },
     "execution_count": 58,
     "metadata": {},
     "output_type": "execute_result"
    }
   ],
   "source": [
    "grid = []\n",
    "\n",
    "with open(\"input.txt\") as f:\n",
    "    for line in f:\n",
    "        grid.append(line.strip())\n",
    "\n",
    "grid[1][1]"
   ]
  },
  {
   "cell_type": "code",
   "execution_count": 59,
   "metadata": {},
   "outputs": [
    {
     "data": {
      "text/plain": [
       "(49, 96)"
      ]
     },
     "execution_count": 59,
     "metadata": {},
     "output_type": "execute_result"
    }
   ],
   "source": [
    "start_loc = None\n",
    "\n",
    "for x, line in enumerate(grid):\n",
    "    y = line.find(\"S\")\n",
    "    if y != -1:\n",
    "        start_loc = (x, y)\n",
    "        break\n",
    "\n",
    "start_loc"
   ]
  },
  {
   "cell_type": "code",
   "execution_count": 60,
   "metadata": {},
   "outputs": [],
   "source": [
    "UP = (-1, 0)\n",
    "RIGHT = (0, 1)\n",
    "DOWN = (1, 0)\n",
    "LEFT = (0, -1)\n",
    "\n",
    "POSSIBLE_TO_CONNECTIONS = {\n",
    "    UP: [\"|\", \"F\", \"7\", \"S\"],\n",
    "    DOWN: [\"|\", \"L\", \"J\", \"S\"],\n",
    "    LEFT: [\"-\", \"F\", \"L\", \"S\"],\n",
    "    RIGHT: [\"-\", \"7\", \"J\", \"S\"],\n",
    "}\n",
    "\n",
    "\n",
    "def can_connect(from_pipe, to_pipe, direction):\n",
    "    if from_pipe == \"S\":\n",
    "        return to_pipe in POSSIBLE_TO_CONNECTIONS[direction]\n",
    "    elif from_pipe == \"|\" and direction in [UP, DOWN]:\n",
    "        return to_pipe in POSSIBLE_TO_CONNECTIONS[direction]\n",
    "    elif from_pipe == \"-\" and direction in [LEFT, RIGHT]:\n",
    "        return to_pipe in POSSIBLE_TO_CONNECTIONS[direction]\n",
    "    elif from_pipe == \"L\" and direction in [UP, RIGHT]:\n",
    "        return to_pipe in POSSIBLE_TO_CONNECTIONS[direction]\n",
    "    elif from_pipe == \"J\" and direction in [UP, LEFT]:\n",
    "        return to_pipe in POSSIBLE_TO_CONNECTIONS[direction]\n",
    "    elif from_pipe == \"7\" and direction in [DOWN, LEFT]:\n",
    "        return to_pipe in POSSIBLE_TO_CONNECTIONS[direction]\n",
    "    elif from_pipe == \"F\" and direction in [DOWN, RIGHT]:\n",
    "        return to_pipe in POSSIBLE_TO_CONNECTIONS[direction]\n",
    "    else:\n",
    "        return False\n",
    "\n",
    "\n",
    "def test_can_connect():\n",
    "    assert can_connect(\"S\", \"F\", UP)\n",
    "    assert can_connect(\"S\", \"|\", DOWN)\n",
    "    assert can_connect(\"S\", \"F\", LEFT)\n",
    "    assert can_connect(\"S\", \"-\", RIGHT)\n",
    "    assert can_connect(\"|\", \"F\", UP)\n",
    "    assert can_connect(\"|\", \"7\", UP)\n",
    "    assert can_connect(\"|\", \"|\", UP)\n",
    "    assert not can_connect(\"|\", \"-\", UP)\n",
    "    assert not can_connect(\"|\", \"L\", UP)\n",
    "    assert not can_connect(\"|\", \"J\", UP)"
   ]
  },
  {
   "cell_type": "code",
   "execution_count": 62,
   "metadata": {},
   "outputs": [
    {
     "data": {
      "text/plain": [
       "0"
      ]
     },
     "execution_count": 62,
     "metadata": {},
     "output_type": "execute_result"
    }
   ],
   "source": [
    "def find_next_connected_pipe(grid, prev, current):\n",
    "    # print(f\"Looking for next connected pipe from {current} with prev {prev}\")\n",
    "    x, y = current\n",
    "    for dx, dy in [UP, RIGHT, DOWN, LEFT]:\n",
    "        nx, ny = x + dx, y + dy\n",
    "        if nx < 0 or nx >= len(grid) or ny < 0 or ny >= len(grid[nx]):\n",
    "            continue\n",
    "        if (nx, ny) == prev:\n",
    "            continue\n",
    "        if can_connect(grid[x][y], grid[nx][ny], (dx, dy)):\n",
    "            return (nx, ny), (dx, dy)\n",
    "\n",
    "\n",
    "# print(f\"UP: {UP}, RIGHT: {RIGHT}, DOWN: {DOWN}, LEFT: {LEFT}\")\n",
    "\n",
    "\n",
    "prev = None\n",
    "current = start_loc\n",
    "next = (0, 0)\n",
    "loop = []\n",
    "while grid[current[0]][current[1]] != \"S\" or len(loop) == 0:\n",
    "    next, direction = find_next_connected_pipe(grid, prev, current)\n",
    "    loop.append(next)\n",
    "    prev = current\n",
    "    current = next\n",
    "\n",
    "len(loop) // 2"
   ]
  }
 ],
 "metadata": {
  "kernelspec": {
   "display_name": "myenv",
   "language": "python",
   "name": "python3"
  },
  "language_info": {
   "codemirror_mode": {
    "name": "ipython",
    "version": 3
   },
   "file_extension": ".py",
   "mimetype": "text/x-python",
   "name": "python",
   "nbconvert_exporter": "python",
   "pygments_lexer": "ipython3",
   "version": "3.11.6"
  }
 },
 "nbformat": 4,
 "nbformat_minor": 2
}
