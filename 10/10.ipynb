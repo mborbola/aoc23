{
 "cells": [
  {
   "cell_type": "code",
   "execution_count": 87,
   "metadata": {},
   "outputs": [
    {
     "data": {
      "text/plain": [
       "(140, 140, '7')"
      ]
     },
     "execution_count": 87,
     "metadata": {},
     "output_type": "execute_result"
    }
   ],
   "source": [
    "grid = []\n",
    "\n",
    "with open(\"input.txt\") as f:\n",
    "    for line in f:\n",
    "        grid.append(line.strip())\n",
    "\n",
    "len(grid), len(grid[1]), grid[1][1]"
   ]
  },
  {
   "cell_type": "code",
   "execution_count": 88,
   "metadata": {},
   "outputs": [
    {
     "data": {
      "text/plain": [
       "(49, 96)"
      ]
     },
     "execution_count": 88,
     "metadata": {},
     "output_type": "execute_result"
    }
   ],
   "source": [
    "start_loc = None\n",
    "\n",
    "for x, line in enumerate(grid):\n",
    "    y = line.find(\"S\")\n",
    "    if y != -1:\n",
    "        start_loc = (x, y)\n",
    "        break\n",
    "\n",
    "start_loc"
   ]
  },
  {
   "cell_type": "code",
   "execution_count": 89,
   "metadata": {},
   "outputs": [],
   "source": [
    "UP = (-1, 0)\n",
    "RIGHT = (0, 1)\n",
    "DOWN = (1, 0)\n",
    "LEFT = (0, -1)\n",
    "\n",
    "POSSIBLE_TO_CONNECTIONS = {\n",
    "    UP: [\"|\", \"F\", \"7\", \"S\"],\n",
    "    DOWN: [\"|\", \"L\", \"J\", \"S\"],\n",
    "    LEFT: [\"-\", \"F\", \"L\", \"S\"],\n",
    "    RIGHT: [\"-\", \"7\", \"J\", \"S\"],\n",
    "}\n",
    "\n",
    "\n",
    "def can_connect(from_pipe, to_pipe, direction):\n",
    "    if from_pipe == \"S\":\n",
    "        return to_pipe in POSSIBLE_TO_CONNECTIONS[direction]\n",
    "    elif from_pipe == \"|\" and direction in [UP, DOWN]:\n",
    "        return to_pipe in POSSIBLE_TO_CONNECTIONS[direction]\n",
    "    elif from_pipe == \"-\" and direction in [LEFT, RIGHT]:\n",
    "        return to_pipe in POSSIBLE_TO_CONNECTIONS[direction]\n",
    "    elif from_pipe == \"L\" and direction in [UP, RIGHT]:\n",
    "        return to_pipe in POSSIBLE_TO_CONNECTIONS[direction]\n",
    "    elif from_pipe == \"J\" and direction in [UP, LEFT]:\n",
    "        return to_pipe in POSSIBLE_TO_CONNECTIONS[direction]\n",
    "    elif from_pipe == \"7\" and direction in [DOWN, LEFT]:\n",
    "        return to_pipe in POSSIBLE_TO_CONNECTIONS[direction]\n",
    "    elif from_pipe == \"F\" and direction in [DOWN, RIGHT]:\n",
    "        return to_pipe in POSSIBLE_TO_CONNECTIONS[direction]\n",
    "    else:\n",
    "        return False\n",
    "\n",
    "\n",
    "def test_can_connect():\n",
    "    assert can_connect(\"S\", \"F\", UP)\n",
    "    assert can_connect(\"S\", \"|\", DOWN)\n",
    "    assert can_connect(\"S\", \"F\", LEFT)\n",
    "    assert can_connect(\"S\", \"-\", RIGHT)\n",
    "    assert can_connect(\"|\", \"F\", UP)\n",
    "    assert can_connect(\"|\", \"7\", UP)\n",
    "    assert can_connect(\"|\", \"|\", UP)\n",
    "    assert not can_connect(\"|\", \"-\", UP)\n",
    "    assert not can_connect(\"|\", \"L\", UP)\n",
    "    assert not can_connect(\"|\", \"J\", UP)"
   ]
  },
  {
   "cell_type": "code",
   "execution_count": 90,
   "metadata": {},
   "outputs": [
    {
     "data": {
      "text/plain": [
       "7066"
      ]
     },
     "execution_count": 90,
     "metadata": {},
     "output_type": "execute_result"
    }
   ],
   "source": [
    "def find_next_connected_pipe(grid, prev, current):\n",
    "    # print(f\"Looking for next connected pipe from {current} with prev {prev}\")\n",
    "    x, y = current\n",
    "    for dx, dy in [UP, RIGHT, DOWN, LEFT]:\n",
    "        nx, ny = x + dx, y + dy\n",
    "        if nx < 0 or nx >= len(grid) or ny < 0 or ny >= len(grid[nx]):\n",
    "            continue\n",
    "        if (nx, ny) == prev:\n",
    "            continue\n",
    "        if can_connect(grid[x][y], grid[nx][ny], (dx, dy)):\n",
    "            return (nx, ny), (dx, dy)\n",
    "\n",
    "\n",
    "# print(f\"UP: {UP}, RIGHT: {RIGHT}, DOWN: {DOWN}, LEFT: {LEFT}\")\n",
    "\n",
    "\n",
    "prev = None\n",
    "current = start_loc\n",
    "next = (0, 0)\n",
    "loop = []\n",
    "while grid[current[0]][current[1]] != \"S\" or len(loop) == 0:\n",
    "    next, direction = find_next_connected_pipe(grid, prev, current)\n",
    "    loop.append(next)\n",
    "    prev = current\n",
    "    current = next\n",
    "\n",
    "len(loop) // 2"
   ]
  },
  {
   "cell_type": "markdown",
   "metadata": {},
   "source": [
    "# Part 2"
   ]
  },
  {
   "cell_type": "code",
   "execution_count": 105,
   "metadata": {},
   "outputs": [
    {
     "data": {
      "text/plain": [
       "401"
      ]
     },
     "execution_count": 105,
     "metadata": {},
     "output_type": "execute_result"
    }
   ],
   "source": [
    "# Saw on reddit shoelace + picks theorem 🤯\n",
    "sum = 0\n",
    "for i in range(len(loop)):\n",
    "    n_1 = loop[i]\n",
    "    n_2 = loop[(i + 1) % len(loop)]\n",
    "    x_1, y_1 = n_1\n",
    "    x_2, y_2 = n_2\n",
    "    sum += x_1 * y_2 - y_1 * x_2\n",
    "\n",
    "area = abs(sum / 2)\n",
    "\n",
    "int(area - len(loop) / 2 + 1)"
   ]
  },
  {
   "cell_type": "markdown",
   "metadata": {},
   "source": [
    "## My futile attempts at a solution"
   ]
  },
  {
   "cell_type": "code",
   "execution_count": null,
   "metadata": {},
   "outputs": [],
   "source": [
    "inner = []\n",
    "is_prev_loop_part = False\n",
    "are_we_in_enclosed = False\n",
    "\n",
    "for x in range(len(grid)):\n",
    "    for y in range(len(grid[x])):\n",
    "        if are_we_in_enclosed:\n",
    "            inner.append((x, y))\n",
    "            is_prev_loop_part = False\n",
    "        if (x, y) in loop:\n",
    "            if not is_prev_loop_part:\n",
    "                are_we_in_enclosed = not are_we_in_enclosed\n",
    "            is_prev_loop_part = True\n",
    "\n",
    "len(inner)"
   ]
  },
  {
   "cell_type": "code",
   "execution_count": 92,
   "metadata": {},
   "outputs": [
    {
     "data": {
      "text/plain": [
       "1346"
      ]
     },
     "execution_count": 92,
     "metadata": {},
     "output_type": "execute_result"
    }
   ],
   "source": [
    "# Wrong thinking:\n",
    "\n",
    "innerParts = []\n",
    "\n",
    "for pipe in loop:\n",
    "    # print(f\"Checking pipe {pipe}\")\n",
    "    x, y = pipe\n",
    "    next = (x, y + 1)\n",
    "    nx, ny = next\n",
    "    newInnerParts = []\n",
    "    while True:\n",
    "        if next not in loop:\n",
    "            if ny >= len(grid[nx]):\n",
    "                break\n",
    "            # print(f\"Found inner part at {next}\")\n",
    "            newInnerParts.append(next)\n",
    "            next = (nx, ny + 1)\n",
    "            nx, ny = next\n",
    "        else:\n",
    "            # print(f\"Adding inner parts\")\n",
    "            innerParts.extend(newInnerParts)\n",
    "            break\n",
    "\n",
    "len(innerParts)"
   ]
  },
  {
   "cell_type": "code",
   "execution_count": 93,
   "metadata": {},
   "outputs": [],
   "source": [
    "with open(\"output.txt\", \"w\") as f:\n",
    "    for x in range(len(grid)):\n",
    "        for y in range(len(grid[x])):\n",
    "            if (x, y) in loop:\n",
    "                f.write(grid[x][y])\n",
    "            elif (x, y) in innerParts:\n",
    "                f.write(\"I\")\n",
    "            else:\n",
    "                f.write(\" \")\n",
    "        f.write(\"\\n\")"
   ]
  },
  {
   "cell_type": "code",
   "execution_count": 94,
   "metadata": {},
   "outputs": [],
   "source": [
    "from PIL import Image\n",
    "\n",
    "# Create a new image with RGB mode\n",
    "width = len(grid)\n",
    "height = len(grid[0])\n",
    "img = Image.new(\"RGB\", (width, height))\n",
    "\n",
    "# Access the pixel data\n",
    "pixels = img.load()\n",
    "\n",
    "# Loop over each pixel\n",
    "for i in range(width):\n",
    "    for j in range(height):\n",
    "        if (i, j) in loop:  # Replace with your condition\n",
    "            pixels[i, j] = (0, 0, 0)  # Black\n",
    "        elif (i, j) in inner:  # Replace with your condition\n",
    "            pixels[i, j] = (0, 255, 0)  # Green\n",
    "        else:\n",
    "            pixels[i, j] = (255, 255, 255)  # White\n",
    "\n",
    "# Save the image\n",
    "img.save(\"output2.png\")"
   ]
  }
 ],
 "metadata": {
  "kernelspec": {
   "display_name": "myenv",
   "language": "python",
   "name": "python3"
  },
  "language_info": {
   "codemirror_mode": {
    "name": "ipython",
    "version": 3
   },
   "file_extension": ".py",
   "mimetype": "text/x-python",
   "name": "python",
   "nbconvert_exporter": "python",
   "pygments_lexer": "ipython3",
   "version": "3.11.6"
  }
 },
 "nbformat": 4,
 "nbformat_minor": 2
}
