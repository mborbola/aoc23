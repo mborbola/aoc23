{
 "cells": [
  {
   "cell_type": "code",
   "execution_count": 1,
   "metadata": {},
   "outputs": [
    {
     "data": {
      "text/plain": [
       "[{'row': '##???#??#?????????#?', 'cgods': [11, 6]},\n",
       " {'row': '???.#??#.???', 'cgods': [1, 1, 2, 1]},\n",
       " {'row': '#????#?.???????.', 'cgods': [3, 3, 4]},\n",
       " {'row': '.#?????####.?.#?', 'cgods': [1, 1, 5, 1]},\n",
       " {'row': '?#?????????#?#?', 'cgods': [3, 2, 1, 1, 1]}]"
      ]
     },
     "execution_count": 1,
     "metadata": {},
     "output_type": "execute_result"
    }
   ],
   "source": [
    "def load_input(filename):\n",
    "    hotspring_lines = []\n",
    "\n",
    "    with open(filename) as f:\n",
    "        for line in f:\n",
    "            row, cgods = line.strip().split(\" \")\n",
    "            cgods_list = cgods.split(\",\")\n",
    "            cgods_list = [int(cgod) for cgod in cgods_list]\n",
    "            hotspring_lines.append({\"row\": row, \"cgods\": cgods_list})\n",
    "    return hotspring_lines\n",
    "\n",
    "\n",
    "hot_springs_lines = load_input(\"input.txt\")\n",
    "hot_springs_lines[:5]"
   ]
  },
  {
   "cell_type": "code",
   "execution_count": 2,
   "metadata": {},
   "outputs": [],
   "source": [
    "def is_valid(hotspring_line):\n",
    "    # .#.#.### 1,1,3\n",
    "    # print(hotspring_line)\n",
    "    row, cgods = hotspring_line[\"row\"], hotspring_line[\"cgods\"].copy()\n",
    "    in_sequence = False\n",
    "    for i in range(len(row)):\n",
    "        spring = row[i]\n",
    "        if spring == \"#\":\n",
    "            if len(cgods) == 0:\n",
    "                return False\n",
    "            in_sequence = True\n",
    "            cgods[0] -= 1\n",
    "            if cgods[0] < 0:\n",
    "                return False\n",
    "        elif spring == \".\":\n",
    "            if in_sequence:\n",
    "                if cgods[0] == 0:\n",
    "                    cgods.pop(0)\n",
    "                    in_sequence = False\n",
    "                    continue\n",
    "                else:\n",
    "                    return False\n",
    "\n",
    "    if in_sequence:\n",
    "        if cgods[0] == 0:\n",
    "            cgods.pop(0)\n",
    "        else:\n",
    "            return False\n",
    "\n",
    "    return not bool(cgods)\n",
    "\n",
    "\n",
    "def test_is_valid():\n",
    "    assert is_valid({\"row\": \".....\", \"cgods\": []}) == True\n",
    "    assert is_valid({\"row\": \".....\", \"cgods\": [1]}) == False\n",
    "    assert is_valid({\"row\": \"....#\", \"cgods\": [1]}) == True\n",
    "    assert is_valid({\"row\": \".....\", \"cgods\": [1, 1]}) == False\n",
    "    assert is_valid({\"row\": \"..#..\", \"cgods\": [1]}) == True\n",
    "    assert is_valid({\"row\": \"..#..\", \"cgods\": [1, 1]}) == False\n",
    "    assert is_valid({\"row\": \"..##.\", \"cgods\": [1]}) == False\n",
    "    assert is_valid({\"row\": \"#.##.\", \"cgods\": [1, 2]}) == True\n",
    "    assert is_valid({\"row\": \"####.\", \"cgods\": [1, 3]}) == False\n",
    "    assert is_valid({\"row\": \"#####\", \"cgods\": [5]}) == True\n",
    "\n",
    "\n",
    "test_is_valid()"
   ]
  },
  {
   "cell_type": "code",
   "execution_count": 3,
   "metadata": {},
   "outputs": [
    {
     "data": {
      "text/plain": [
       "6949"
      ]
     },
     "execution_count": 3,
     "metadata": {},
     "output_type": "execute_result"
    }
   ],
   "source": [
    "def possible_configurations(hotspring_line):\n",
    "    row, cgods = hotspring_line[\"row\"], hotspring_line[\"cgods\"]\n",
    "\n",
    "    all_possible_configurations = []\n",
    "    question_marks = row.count(\"?\")\n",
    "    for i in range(2**question_marks):\n",
    "        binary = bin(i)[2:].zfill(question_marks)\n",
    "        configuration = row\n",
    "        for j in range(question_marks):\n",
    "            configuration = configuration.replace(\"?\", binary[j], 1)\n",
    "        configuration = configuration.replace(\"0\", \".\")\n",
    "        configuration = configuration.replace(\"1\", \"#\")\n",
    "        all_possible_configurations.append(configuration)\n",
    "\n",
    "    # print(all_possible_configurations)\n",
    "\n",
    "    sum = 0\n",
    "    for configuration in all_possible_configurations:\n",
    "        if is_valid({\"row\": configuration, \"cgods\": cgods}):\n",
    "            sum += 1\n",
    "\n",
    "    return sum\n",
    "\n",
    "\n",
    "def test_possible_configurations():\n",
    "    test = load_input(\"test.txt\")\n",
    "    # print(test)\n",
    "    assert possible_configurations(test[0]) == 1\n",
    "    assert possible_configurations(test[1]) == 4\n",
    "    assert possible_configurations(test[2]) == 1\n",
    "    assert possible_configurations(test[3]) == 1\n",
    "    assert possible_configurations(test[4]) == 4\n",
    "    assert possible_configurations(test[5]) == 10\n",
    "\n",
    "\n",
    "test_possible_configurations()\n",
    "\n",
    "sum([possible_configurations(row) for row in hot_springs_lines])"
   ]
  },
  {
   "cell_type": "markdown",
   "metadata": {},
   "source": []
  }
 ],
 "metadata": {
  "kernelspec": {
   "display_name": "myenv",
   "language": "python",
   "name": "python3"
  },
  "language_info": {
   "codemirror_mode": {
    "name": "ipython",
    "version": 3
   },
   "file_extension": ".py",
   "mimetype": "text/x-python",
   "name": "python",
   "nbconvert_exporter": "python",
   "pygments_lexer": "ipython3",
   "version": "3.11.6"
  }
 },
 "nbformat": 4,
 "nbformat_minor": 2
}
