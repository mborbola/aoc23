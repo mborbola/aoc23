{
 "cells": [
  {
   "cell_type": "code",
   "execution_count": 2,
   "metadata": {},
   "outputs": [
    {
     "name": "stdout",
     "output_type": "stream",
     "text": [
      "[{'time': 49, 'record_distance': 263}, {'time': 97, 'record_distance': 1532}, {'time': 94, 'record_distance': 1378}, {'time': 94, 'record_distance': 1851}]\n"
     ]
    }
   ],
   "source": [
    "races = []\n",
    "\n",
    "with open('input.txt', 'r') as file:\n",
    "    times = file.readline().strip().split()[1:]\n",
    "    distances = file.readline().strip().split()[1:]\n",
    "\n",
    "    for time, distance in zip(times, distances):\n",
    "        races.append({\"time\": int(time), \"record_distance\": int(distance)})\n",
    "\n",
    "print(races)"
   ]
  },
  {
   "cell_type": "code",
   "execution_count": 3,
   "metadata": {},
   "outputs": [
    {
     "name": "stdout",
     "output_type": "stream",
     "text": [
      "4403592\n"
     ]
    }
   ],
   "source": [
    "def is_winning_push(race, push):\n",
    "    remaining_time = race[\"time\"] - push\n",
    "    distance_traveled = remaining_time * push\n",
    "    return distance_traveled > race[\"record_distance\"]\n",
    "\n",
    "def number_of_ways_to_win(race):\n",
    "    shortest_winning_push = 1\n",
    "    longest_winning_push = race[\"time\"] - 1\n",
    "    while not is_winning_push(race, shortest_winning_push):\n",
    "        shortest_winning_push += 1\n",
    "    while not is_winning_push(race, longest_winning_push):\n",
    "        longest_winning_push -= 1\n",
    "\n",
    "    return longest_winning_push - shortest_winning_push + 1\n",
    "\n",
    "final = 1\n",
    "for race in races:\n",
    "    final *= number_of_ways_to_win(race)\n",
    "\n",
    "print(final)"
   ]
  },
  {
   "cell_type": "markdown",
   "metadata": {},
   "source": [
    "# Part 2"
   ]
  },
  {
   "cell_type": "code",
   "execution_count": 4,
   "metadata": {},
   "outputs": [
    {
     "name": "stdout",
     "output_type": "stream",
     "text": [
      "{'time': 49979494, 'record_distance': 263153213781851}\n",
      "38017587\n"
     ]
    }
   ],
   "source": [
    "ultimate_race = {}\n",
    "\n",
    "with open('input.txt', 'r') as file:\n",
    "    ultimate_race[\"time\"] = int(file.readline().strip().replace(\" \", \"\").split(\":\")[1])\n",
    "    ultimate_race[\"record_distance\"] = int(file.readline().strip().replace(\" \", \"\").split(\":\")[1])\n",
    "\n",
    "print(ultimate_race)\n",
    "\n",
    "print(number_of_ways_to_win(ultimate_race))"
   ]
  }
 ],
 "metadata": {
  "kernelspec": {
   "display_name": "myenv",
   "language": "python",
   "name": "python3"
  },
  "language_info": {
   "codemirror_mode": {
    "name": "ipython",
    "version": 3
   },
   "file_extension": ".py",
   "mimetype": "text/x-python",
   "name": "python",
   "nbconvert_exporter": "python",
   "pygments_lexer": "ipython3",
   "version": "3.11.6"
  }
 },
 "nbformat": 4,
 "nbformat_minor": 2
}
