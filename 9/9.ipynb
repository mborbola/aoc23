{
 "cells": [
  {
   "cell_type": "code",
   "execution_count": 78,
   "metadata": {},
   "outputs": [
    {
     "name": "stdout",
     "output_type": "stream",
     "text": [
      "[[14, 23, 30, 32, 26, 9, -22, -70, -138, -229, -346, -492, -670, -883, -1134, -1426, -1762, -2145, -2578, -3064, -3606], [4, 27, 78, 180, 375, 742, 1428, 2693, 4965, 8900, 15460, 26084, 43181, 71517, 121785, 219063, 421510, 859337, 1812006, 3854420, 8122831], [12, 33, 58, 90, 140, 227, 378, 628, 1020, 1605, 2442, 3598, 5148, 7175, 9770, 13032, 17068, 21993, 27930, 35010, 43372], [8, 20, 43, 88, 185, 401, 878, 1913, 4113, 8678, 17903, 36055, 70882, 136157, 255860, 470864, 849326, 1502400, 2607395, 4441106, 7426759], [5, 14, 28, 46, 72, 124, 261, 652, 1736, 4562, 11453, 27208, 61141, 130356, 264772, 514542, 960655, 1729670, 3013706, 5097002, 8390566]]\n"
     ]
    }
   ],
   "source": [
    "lines = []\n",
    "\n",
    "with open(\"input.txt\", \"r\") as file:\n",
    "    for myList in file:\n",
    "        lines.append([int(num) for num in myList.strip().split()])\n",
    "print(lines[0:5])"
   ]
  },
  {
   "cell_type": "code",
   "execution_count": 79,
   "metadata": {},
   "outputs": [
    {
     "name": "stdout",
     "output_type": "stream",
     "text": [
      "3000\n"
     ]
    }
   ],
   "source": [
    "import sys\n",
    "\n",
    "print(sys.getrecursionlimit())"
   ]
  },
  {
   "cell_type": "code",
   "execution_count": 80,
   "metadata": {},
   "outputs": [
    {
     "data": {
      "text/plain": [
       "1980437560"
      ]
     },
     "execution_count": 80,
     "metadata": {},
     "output_type": "execute_result"
    }
   ],
   "source": [
    "def get_lower_list(original):\n",
    "    if len(original) == 1:\n",
    "        return []\n",
    "    new_list = []\n",
    "    for i, x in enumerate(original[:-1]):\n",
    "        diff = original[i + 1] - x\n",
    "        new_list.append(diff)\n",
    "    return new_list\n",
    "\n",
    "\n",
    "def calculate_next_value(myList):\n",
    "    lower_list = get_lower_list(myList)\n",
    "    if all(item == lower_list[0] for item in lower_list[1:]):\n",
    "        return myList[-1] + lower_list[0]\n",
    "    else:\n",
    "        return myList[-1] + calculate_next_value(lower_list)\n",
    "\n",
    "\n",
    "sum = 0\n",
    "for myList in lines:\n",
    "    sum += calculate_next_value(myList)\n",
    "\n",
    "\n",
    "sum"
   ]
  },
  {
   "cell_type": "markdown",
   "metadata": {},
   "source": [
    "# Part 2"
   ]
  },
  {
   "cell_type": "code",
   "execution_count": 81,
   "metadata": {},
   "outputs": [
    {
     "data": {
      "text/plain": [
       "977"
      ]
     },
     "execution_count": 81,
     "metadata": {},
     "output_type": "execute_result"
    }
   ],
   "source": [
    "def calculate_prev_value(myList):\n",
    "    lower_list = get_lower_list(myList)\n",
    "    if all(item == lower_list[0] for item in lower_list[1:]):\n",
    "        return myList[0] - lower_list[0]\n",
    "    else:\n",
    "        return myList[0] - calculate_prev_value(lower_list)\n",
    "\n",
    "\n",
    "sum = 0\n",
    "for myList in lines:\n",
    "    sum += calculate_prev_value(myList)\n",
    "\n",
    "\n",
    "sum"
   ]
  }
 ],
 "metadata": {
  "kernelspec": {
   "display_name": "myenv",
   "language": "python",
   "name": "python3"
  },
  "language_info": {
   "codemirror_mode": {
    "name": "ipython",
    "version": 3
   },
   "file_extension": ".py",
   "mimetype": "text/x-python",
   "name": "python",
   "nbconvert_exporter": "python",
   "pygments_lexer": "ipython3",
   "version": "3.11.6"
  }
 },
 "nbformat": 4,
 "nbformat_minor": 2
}
