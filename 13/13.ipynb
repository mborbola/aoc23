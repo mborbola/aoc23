{
 "cells": [
  {
   "cell_type": "code",
   "execution_count": 72,
   "metadata": {},
   "outputs": [
    {
     "data": {
      "text/plain": [
       "(['#..#.#........#',\n",
       "  '#..######..####',\n",
       "  '.##..#.#.##.#.#',\n",
       "  '#..##..........',\n",
       "  '######........#',\n",
       "  '#..####......##',\n",
       "  '.##.##.#...##.#'],\n",
       " 100)"
      ]
     },
     "execution_count": 72,
     "metadata": {},
     "output_type": "execute_result"
    }
   ],
   "source": [
    "def load_input(filename):\n",
    "    with open(filename) as f:\n",
    "        input = f.read().strip().split(\"\\n\\n\")\n",
    "    return [x.split(\"\\n\") for x in input]\n",
    "\n",
    "\n",
    "input_maps = load_input(\"input.txt\")\n",
    "input_maps[0], len(input_maps)"
   ]
  },
  {
   "cell_type": "code",
   "execution_count": 73,
   "metadata": {},
   "outputs": [],
   "source": [
    "from PIL import Image\n",
    "import numpy as np\n",
    "\n",
    "for i, input_map in enumerate(input_maps):\n",
    "    break\n",
    "    input = [[0 if x == \"#\" else 255 for x in y] for y in input_map]\n",
    "\n",
    "    # Assume you have a 2D array\n",
    "    array = np.array(input)\n",
    "\n",
    "    # Convert the array to an image\n",
    "    img = Image.fromarray(array.astype(\"uint8\"))\n",
    "\n",
    "    # Save the image\n",
    "    img.save(f\"outputs/{i+1}.png\")"
   ]
  },
  {
   "cell_type": "code",
   "execution_count": 74,
   "metadata": {},
   "outputs": [
    {
     "data": {
      "text/plain": [
       "33728"
      ]
     },
     "execution_count": 74,
     "metadata": {},
     "output_type": "execute_result"
    }
   ],
   "source": [
    "import numpy as np\n",
    "\n",
    "\n",
    "def get_horizontal_mirror_place(input):\n",
    "    for i in range(len(input) - 1):\n",
    "        current = i\n",
    "        next = i + 1\n",
    "        if input[current] == input[next]:\n",
    "            all_match = True\n",
    "            # len: 15 -> max index: 14\n",
    "            # match at 4 -> 4 (0,1,2,3)\n",
    "            # match at 10 -> 4 (11,12,13,14)\n",
    "            how_many_to_check = min(current, len(input) - 2 - current)\n",
    "            for j in range(how_many_to_check):\n",
    "                add = j + 1\n",
    "                if input[current - add] != input[next + add]:\n",
    "                    all_match = False\n",
    "                    break\n",
    "            if all_match:\n",
    "                return i + 1\n",
    "    return -1\n",
    "\n",
    "\n",
    "sum = 0\n",
    "for input_map in input_maps:\n",
    "    mirror_place = get_horizontal_mirror_place(input_map)\n",
    "    if mirror_place == -1:\n",
    "        array = np.array([list(line) for line in input_map])\n",
    "        mirrored_array = [\"\".join(line) for line in np.transpose(array)]\n",
    "\n",
    "        mirror_place = get_horizontal_mirror_place(mirrored_array)\n",
    "        sum += mirror_place\n",
    "    else:\n",
    "        sum += mirror_place * 100\n",
    "\n",
    "sum"
   ]
  },
  {
   "cell_type": "markdown",
   "metadata": {},
   "source": [
    "# Part 2"
   ]
  },
  {
   "cell_type": "code",
   "execution_count": 75,
   "metadata": {},
   "outputs": [
    {
     "data": {
      "text/plain": [
       "28235"
      ]
     },
     "execution_count": 75,
     "metadata": {},
     "output_type": "execute_result"
    }
   ],
   "source": [
    "def levenshtein_distance(s1, s2):\n",
    "    if len(s1) < len(s2):\n",
    "        return levenshtein_distance(s2, s1)\n",
    "\n",
    "    if len(s2) == 0:\n",
    "        return len(s1)\n",
    "\n",
    "    previous_row = range(len(s2) + 1)\n",
    "    for i, c1 in enumerate(s1):\n",
    "        current_row = [i + 1]\n",
    "        for j, c2 in enumerate(s2):\n",
    "            insertions = previous_row[j + 1] + 1\n",
    "            deletions = current_row[j] + 1\n",
    "            substitutions = previous_row[j] + (c1 != c2)\n",
    "            current_row.append(min(insertions, deletions, substitutions))\n",
    "        previous_row = current_row\n",
    "\n",
    "    return previous_row[-1]\n",
    "\n",
    "\n",
    "# print(levenshtein_distance(input_maps[0][0], input_maps[0][1]))\n",
    "\n",
    "\n",
    "def get_mirror_place_with_smudge(input):\n",
    "    for i in range(len(input) - 1):\n",
    "        errors = 0\n",
    "        current = i\n",
    "        next = i + 1\n",
    "        how_many_to_check = min(current, len(input) - 2 - current)\n",
    "        for j in range(how_many_to_check + 1):\n",
    "            add = j\n",
    "            errors += levenshtein_distance(input[current - add], input[next + add])\n",
    "            if errors > 1:\n",
    "                break\n",
    "        if errors == 1:\n",
    "            return i + 1\n",
    "    return -1\n",
    "\n",
    "\n",
    "example_input_maps = load_input(\"example.txt\")\n",
    "\n",
    "get_mirror_place_with_smudge(example_input_maps[1])\n",
    "\n",
    "sum = 0\n",
    "for input_map in input_maps:\n",
    "    mirror_place = get_mirror_place_with_smudge(input_map)\n",
    "    if mirror_place == -1:\n",
    "        array = np.array([list(line) for line in input_map])\n",
    "        mirrored_array = [\"\".join(line) for line in np.transpose(array)]\n",
    "\n",
    "        mirror_place = get_mirror_place_with_smudge(mirrored_array)\n",
    "        sum += mirror_place\n",
    "    else:\n",
    "        sum += mirror_place * 100\n",
    "\n",
    "sum"
   ]
  }
 ],
 "metadata": {
  "kernelspec": {
   "display_name": "myenv",
   "language": "python",
   "name": "python3"
  },
  "language_info": {
   "name": "python",
   "version": "3.11.6"
  }
 },
 "nbformat": 4,
 "nbformat_minor": 2
}
