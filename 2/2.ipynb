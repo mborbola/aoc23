{
 "cells": [
  {
   "cell_type": "code",
   "execution_count": 4,
   "metadata": {},
   "outputs": [
    {
     "name": "stdout",
     "output_type": "stream",
     "text": [
      "['Game 1: 4 red, 18 green, 15 blue; 17 green, 18 blue, 9 red; 8 red, 14 green, 6 blue; 14 green, 12 blue, 2 red', 'Game 2: 6 red, 11 green; 4 blue, 4 green, 5 red; 11 green, 6 blue, 6 red', 'Game 3: 3 red, 3 green; 3 green, 1 blue, 7 red; 3 green, 5 red, 1 blue; 9 red, 4 green; 1 blue, 2 green, 5 red', 'Game 4: 2 blue, 5 green, 9 red; 7 red, 10 blue; 2 green, 14 blue, 5 red; 3 blue, 2 green; 4 green, 10 red, 7 blue; 2 green, 15 blue, 7 red', 'Game 5: 3 red, 2 blue; 5 red, 3 blue; 10 blue, 10 red, 1 green; 4 blue']\n"
     ]
    }
   ],
   "source": [
    "values = []\n",
    "\n",
    "with open('input.txt', 'r') as file:\n",
    "    for line in file:\n",
    "        values.append(line.strip())\n",
    "print(values[0:5])"
   ]
  },
  {
   "cell_type": "code",
   "execution_count": 5,
   "metadata": {},
   "outputs": [],
   "source": [
    "def convert_to_game_format(s):\n",
    "    # Extract game ID\n",
    "    game_id = int(s.split(':')[0].split(' ')[1])\n",
    "\n",
    "    # Split into color sets\n",
    "    color_sets = s.split(':')[1].split(';')\n",
    "\n",
    "    # Initialize the game dictionary\n",
    "    game = {\"id\": game_id, \"sets\": []}\n",
    "\n",
    "    # Parse each set and count colors\n",
    "    for color_set in color_sets:\n",
    "        color_counts = {\"R\": 0, \"G\": 0, \"B\": 0}\n",
    "        colors = color_set.strip().split(', ')\n",
    "        for color in colors:\n",
    "            amount, color_code = color.split(' ')\n",
    "            if color_code == 'red':\n",
    "                color_counts[\"R\"] += int(amount)\n",
    "            elif color_code == 'green':\n",
    "                color_counts[\"G\"] += int(amount)\n",
    "            elif color_code == 'blue':\n",
    "                color_counts[\"B\"] += int(amount)\n",
    "        game[\"sets\"].append(color_counts)\n",
    "\n",
    "    return game"
   ]
  },
  {
   "cell_type": "code",
   "execution_count": 13,
   "metadata": {},
   "outputs": [
    {
     "name": "stdout",
     "output_type": "stream",
     "text": [
      "['Game 1: 4 red, 18 green, 15 blue; 17 green, 18 blue, 9 red; 8 red, 14 green, 6 blue; 14 green, 12 blue, 2 red', 'Game 2: 6 red, 11 green; 4 blue, 4 green, 5 red; 11 green, 6 blue, 6 red', 'Game 3: 3 red, 3 green; 3 green, 1 blue, 7 red; 3 green, 5 red, 1 blue; 9 red, 4 green; 1 blue, 2 green, 5 red', 'Game 4: 2 blue, 5 green, 9 red; 7 red, 10 blue; 2 green, 14 blue, 5 red; 3 blue, 2 green; 4 green, 10 red, 7 blue; 2 green, 15 blue, 7 red', 'Game 5: 3 red, 2 blue; 5 red, 3 blue; 10 blue, 10 red, 1 green; 4 blue']\n",
      "[{'id': 1, 'sets': [{'R': 4, 'G': 18, 'B': 15}, {'R': 9, 'G': 17, 'B': 18}, {'R': 8, 'G': 14, 'B': 6}, {'R': 2, 'G': 14, 'B': 12}]}, {'id': 2, 'sets': [{'R': 6, 'G': 11, 'B': 0}, {'R': 5, 'G': 4, 'B': 4}, {'R': 6, 'G': 11, 'B': 6}]}, {'id': 3, 'sets': [{'R': 3, 'G': 3, 'B': 0}, {'R': 7, 'G': 3, 'B': 1}, {'R': 5, 'G': 3, 'B': 1}, {'R': 9, 'G': 4, 'B': 0}, {'R': 5, 'G': 2, 'B': 1}]}, {'id': 4, 'sets': [{'R': 9, 'G': 5, 'B': 2}, {'R': 7, 'G': 0, 'B': 10}, {'R': 5, 'G': 2, 'B': 14}, {'R': 0, 'G': 2, 'B': 3}, {'R': 10, 'G': 4, 'B': 7}, {'R': 7, 'G': 2, 'B': 15}]}, {'id': 5, 'sets': [{'R': 3, 'G': 0, 'B': 2}, {'R': 5, 'G': 0, 'B': 3}, {'R': 10, 'G': 1, 'B': 10}, {'R': 0, 'G': 0, 'B': 4}]}]\n"
     ]
    }
   ],
   "source": [
    "games = [convert_to_game_format(value) for value in values]\n",
    "print(values[0:5])\n",
    "print(game_values[0:5])"
   ]
  },
  {
   "cell_type": "code",
   "execution_count": 9,
   "metadata": {},
   "outputs": [],
   "source": [
    "def is_game_possible(game, bag_content):\n",
    "    for set in game[\"sets\"]:\n",
    "        if set[\"R\"] > bag_content[\"R\"] or set[\"G\"] > bag_content[\"G\"] or set[\"B\"] > bag_content[\"B\"]:\n",
    "            return False\n",
    "    return True"
   ]
  },
  {
   "cell_type": "markdown",
   "metadata": {},
   "source": [
    "# Test"
   ]
  },
  {
   "cell_type": "code",
   "execution_count": 17,
   "metadata": {},
   "outputs": [
    {
     "name": "stdout",
     "output_type": "stream",
     "text": [
      "8\n"
     ]
    }
   ],
   "source": [
    "test_lines = \"\"\"\n",
    "Game 1: 3 blue, 4 red; 1 red, 2 green, 6 blue; 2 green\n",
    "Game 2: 1 blue, 2 green; 3 green, 4 blue, 1 red; 1 green, 1 blue\n",
    "Game 3: 8 green, 6 blue, 20 red; 5 blue, 4 red, 13 green; 5 green, 1 red\n",
    "Game 4: 1 green, 3 red, 6 blue; 3 green, 6 red; 3 green, 15 blue, 14 red\n",
    "Game 5: 6 red, 1 blue, 3 green; 2 blue, 1 red, 2 green\n",
    "\"\"\".strip().split(\"\\n\")\n",
    "\n",
    "test_games = [convert_to_game_format(line) for line in test_lines]\n",
    "\n",
    "bag_content = {'R': 12, 'G': 13, 'B': 14}\n",
    "sum = 0\n",
    "for game in test_games:\n",
    "    if is_game_possible(game, bag_content):\n",
    "        sum += game[\"id\"]\n",
    "print(sum)"
   ]
  },
  {
   "cell_type": "code",
   "execution_count": 14,
   "metadata": {},
   "outputs": [
    {
     "name": "stdout",
     "output_type": "stream",
     "text": [
      "2879\n"
     ]
    }
   ],
   "source": [
    "bag_content = {'R': 12, 'G': 13, 'B': 14}\n",
    "sum = 0\n",
    "for game in games:\n",
    "    if is_game_possible(game, bag_content):\n",
    "        sum += game[\"id\"]\n",
    "print(sum)"
   ]
  },
  {
   "cell_type": "markdown",
   "metadata": {},
   "source": [
    "# Part 2"
   ]
  },
  {
   "cell_type": "code",
   "execution_count": 19,
   "metadata": {},
   "outputs": [],
   "source": [
    "def minimum_possible_set(game):\n",
    "    minimum_possible = {'R': 0, 'G': 0, 'B': 0}\n",
    "    for set in game[\"sets\"]:\n",
    "        if set['R'] > minimum_possible['R']:\n",
    "            minimum_possible['R'] = set['R']\n",
    "        if set['G'] > minimum_possible['G']:\n",
    "            minimum_possible['G'] = set['G']\n",
    "        if set['B'] > minimum_possible['B']:\n",
    "            minimum_possible['B'] = set['B']\n",
    "    return minimum_possible\n",
    "\n",
    "def power_from_set(set):\n",
    "    return set['R'] * set['G'] * set['B']"
   ]
  },
  {
   "cell_type": "code",
   "execution_count": 20,
   "metadata": {},
   "outputs": [
    {
     "name": "stdout",
     "output_type": "stream",
     "text": [
      "Actual\n",
      "[48, 12, 1560, 630, 36]\n",
      "Expected\n",
      "[48, 12, 1560, 630, 36]\n",
      "{'R': 4, 'G': 2, 'B': 6}\n",
      "{'R': 1, 'G': 3, 'B': 4}\n",
      "{'R': 20, 'G': 13, 'B': 6}\n",
      "{'R': 14, 'G': 3, 'B': 15}\n",
      "{'R': 6, 'G': 3, 'B': 2}\n",
      "2286\n"
     ]
    }
   ],
   "source": [
    "\n",
    "print(\"Actual\")\n",
    "print([power_from_set(minimum_possible_set(game)) for game in test_games])\n",
    "print(\"Expected\")\n",
    "print([48, 12, 1560, 630, 36])\n",
    "\n",
    "sum = 0\n",
    "for game in test_games:\n",
    "    # print(minimum_possible_set(game))\n",
    "    sum += power_from_set(minimum_possible_set(game))\n",
    "print(sum)"
   ]
  },
  {
   "cell_type": "code",
   "execution_count": 21,
   "metadata": {},
   "outputs": [
    {
     "name": "stdout",
     "output_type": "stream",
     "text": [
      "65122\n"
     ]
    }
   ],
   "source": [
    "sum = 0\n",
    "for game in games:\n",
    "    sum += power_from_set(minimum_possible_set(game))\n",
    "print(sum)"
   ]
  }
 ],
 "metadata": {
  "kernelspec": {
   "display_name": "myenv",
   "language": "python",
   "name": "python3"
  },
  "language_info": {
   "codemirror_mode": {
    "name": "ipython",
    "version": 3
   },
   "file_extension": ".py",
   "mimetype": "text/x-python",
   "name": "python",
   "nbconvert_exporter": "python",
   "pygments_lexer": "ipython3",
   "version": "3.11.6"
  }
 },
 "nbformat": 4,
 "nbformat_minor": 2
}
