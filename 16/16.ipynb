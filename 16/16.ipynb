{
 "cells": [
  {
   "cell_type": "code",
   "execution_count": 44,
   "metadata": {},
   "outputs": [
    {
     "data": {
      "text/plain": [
       "(110, 110, '\\\\')"
      ]
     },
     "execution_count": 44,
     "metadata": {},
     "output_type": "execute_result"
    }
   ],
   "source": [
    "def load_input(filename):\n",
    "    with open(filename) as f:\n",
    "        input = f.readlines()\n",
    "    return [list(x.strip()) for x in input]\n",
    "\n",
    "\n",
    "input_maps = load_input(\"input.txt\")\n",
    "len(input_maps), len(input_maps[0]), input_maps[0][0]"
   ]
  },
  {
   "cell_type": "code",
   "execution_count": 45,
   "metadata": {},
   "outputs": [
    {
     "name": "stdout",
     "output_type": "stream",
     "text": [
      "7060\n"
     ]
    }
   ],
   "source": [
    "energized_cubes = []\n",
    "energized_cubes_unique = []\n",
    "\n",
    "\n",
    "def beam(start, direction):\n",
    "    row, col = start\n",
    "    drow, dcol = direction\n",
    "    while True:\n",
    "        if row < 0 or row >= len(input_maps) or col < 0 or col >= len(input_maps[row]):\n",
    "            return\n",
    "        if (row, col, drow, dcol) in energized_cubes:\n",
    "            return\n",
    "\n",
    "        energized_cubes.append((row, col, drow, dcol))\n",
    "        if (row, col) not in energized_cubes_unique:\n",
    "            energized_cubes_unique.append((row, col))\n",
    "\n",
    "        if input_maps[row][col] == \".\":\n",
    "            row += drow\n",
    "            col += dcol\n",
    "            continue\n",
    "        elif input_maps[row][col] == \"\\\\\":\n",
    "            # print(f\"Bouncing at ({row},{col})\")\n",
    "            if direction == (1, 0):\n",
    "                direction = (0, 1)\n",
    "            elif direction == (0, 1):\n",
    "                direction = (1, 0)\n",
    "            elif direction == (-1, 0):\n",
    "                direction = (0, -1)\n",
    "            elif direction == (0, -1):\n",
    "                direction = (-1, 0)\n",
    "            drow, dcol = direction\n",
    "            row += drow\n",
    "            col += dcol\n",
    "            continue\n",
    "        elif input_maps[row][col] == \"/\":\n",
    "            # print(f\"Bouncing at ({row},{col})\")\n",
    "            if direction == (1, 0):\n",
    "                direction = (0, -1)\n",
    "            elif direction == (0, 1):\n",
    "                direction = (-1, 0)\n",
    "            elif direction == (-1, 0):\n",
    "                direction = (0, 1)\n",
    "            elif direction == (0, -1):\n",
    "                direction = (1, 0)\n",
    "            drow, dcol = direction\n",
    "            row += drow\n",
    "            col += dcol\n",
    "            continue\n",
    "        elif input_maps[row][col] == \"|\":\n",
    "            if direction == (0, 1) or direction == (0, -1):\n",
    "                # print(f\"SPLITTING at ({row},{col})\")\n",
    "                beam((row, col), (1, 0))\n",
    "                beam((row, col), (-1, 0))\n",
    "                return\n",
    "            else:\n",
    "                row += drow\n",
    "                col += dcol\n",
    "                continue\n",
    "        elif input_maps[row][col] == \"-\":\n",
    "            if direction == (1, 0) or direction == (-1, 0):\n",
    "                # print(f\"SPLITTING at ({row},{col})\")\n",
    "                beam((row, col), (0, 1))\n",
    "                beam((row, col), (0, -1))\n",
    "                return\n",
    "            else:\n",
    "                row += drow\n",
    "                col += dcol\n",
    "                continue\n",
    "\n",
    "\n",
    "beam((0, 0), (0, 1))\n",
    "\n",
    "print(len(energized_cubes_unique))"
   ]
  },
  {
   "cell_type": "code",
   "execution_count": 46,
   "metadata": {},
   "outputs": [
    {
     "data": {
      "text/plain": [
       "10"
      ]
     },
     "execution_count": 46,
     "metadata": {},
     "output_type": "execute_result"
    }
   ],
   "source": [
    "map = [[1, 2, 3], [4, 5, 6], [7, 8, 9], [10, 11, 12]]\n",
    "map[3][0]"
   ]
  },
  {
   "cell_type": "code",
   "execution_count": 47,
   "metadata": {},
   "outputs": [
    {
     "name": "stdout",
     "output_type": "stream",
     "text": [
      "######....\n",
      ".#...#....\n",
      ".#...#####\n",
      ".#...##...\n",
      ".#...##...\n",
      ".#...##...\n",
      ".#..####..\n",
      "########..\n",
      ".#######..\n",
      ".#...#.#..\n"
     ]
    },
    {
     "data": {
      "text/plain": [
       "46"
      ]
     },
     "execution_count": 47,
     "metadata": {},
     "output_type": "execute_result"
    }
   ],
   "source": [
    "energized_cubes = []\n",
    "energized_cubes_unique = []\n",
    "\n",
    "input_maps = load_input(\"example.txt\")\n",
    "\n",
    "beam((0, 0), (0, 1))\n",
    "\n",
    "for x, row in enumerate(input_maps):\n",
    "    for y, col in enumerate(row):\n",
    "        if (x, y) in energized_cubes_unique:\n",
    "            print(\"#\", end=\"\")\n",
    "        else:\n",
    "            print(\".\", end=\"\")\n",
    "    print()\n",
    "\n",
    "len(energized_cubes_unique)"
   ]
  }
 ],
 "metadata": {
  "kernelspec": {
   "display_name": "myenv",
   "language": "python",
   "name": "python3"
  },
  "language_info": {
   "codemirror_mode": {
    "name": "ipython",
    "version": 3
   },
   "file_extension": ".py",
   "mimetype": "text/x-python",
   "name": "python",
   "nbconvert_exporter": "python",
   "pygments_lexer": "ipython3",
   "version": "3.11.6"
  }
 },
 "nbformat": 4,
 "nbformat_minor": 2
}
