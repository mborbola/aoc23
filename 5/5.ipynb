{
 "cells": [
  {
   "cell_type": "code",
   "execution_count": 2,
   "metadata": {},
   "outputs": [
    {
     "name": "stdout",
     "output_type": "stream",
     "text": [
      "['seeds: 1636419363 608824189 3409451394 227471750 12950548 91466703 1003260108 224873703 440703838 191248477 634347552 275264505 3673953799 67839674 2442763622 237071609 3766524590 426344831 1433781343 153722422', '', 'seed-to-soil map:', '2067746708 2321931404 124423068', '2774831547 3357841131 95865403']\n"
     ]
    }
   ],
   "source": [
    "lines = []\n",
    "\n",
    "with open(\"input.txt\", \"r\") as file:\n",
    "    for line in file:\n",
    "        lines.append(line.strip())\n",
    "print(lines[0:5])"
   ]
  },
  {
   "cell_type": "code",
   "execution_count": 21,
   "metadata": {},
   "outputs": [
    {
     "name": "stdout",
     "output_type": "stream",
     "text": [
      "[1636419363, 608824189, 3409451394, 227471750, 12950548, 91466703, 1003260108, 224873703, 440703838, 191248477, 634347552, 275264505, 3673953799, 67839674, 2442763622, 237071609, 3766524590, 426344831, 1433781343, 153722422]\n",
      "[{'source_range_start': 1253174910, 'destination_range_start': 487890089, 'range_length': 48217379}, {'source_range_start': 2295971038, 'destination_range_start': 1162866447, 'range_length': 331509140}, {'source_range_start': 4085918002, 'destination_range_start': 3115016077, 'range_length': 209049294}, {'source_range_start': 2743705059, 'destination_range_start': 3600618057, 'range_length': 694349239}, {'source_range_start': 3712826169, 'destination_range_start': 3021490874, 'range_length': 26810261}, {'source_range_start': 3739636430, 'destination_range_start': 2743705059, 'range_length': 3013944}, {'source_range_start': 4019203060, 'destination_range_start': 3048301135, 'range_length': 66714942}, {'source_range_start': 0, 'destination_range_start': 1494375587, 'range_length': 650888870}, {'source_range_start': 650888870, 'destination_range_start': 167398115, 'range_length': 320491974}, {'source_range_start': 2207516327, 'destination_range_start': 78943404, 'range_length': 88454711}, {'source_range_start': 3742650374, 'destination_range_start': 3324065371, 'range_length': 276552686}, {'source_range_start': 1174877356, 'destination_range_start': 881072381, 'range_length': 78297554}, {'source_range_start': 2191170718, 'destination_range_start': 2690077973, 'range_length': 16345609}, {'source_range_start': 3438054298, 'destination_range_start': 2746719003, 'range_length': 274771871}, {'source_range_start': 1301392289, 'destination_range_start': 2145264457, 'range_length': 544813516}, {'source_range_start': 971380844, 'destination_range_start': 959369935, 'range_length': 203496512}, {'source_range_start': 1846205805, 'destination_range_start': 536107468, 'range_length': 344964913}, {'source_range_start': 2627480178, 'destination_range_start': 0, 'range_length': 78943404}]\n"
     ]
    }
   ],
   "source": [
    "def convert_to_map_format(lines: list):\n",
    "    lines = [line for line in lines if line.strip()]\n",
    "    map = []\n",
    "    for line in lines:\n",
    "        ranges = line.split()\n",
    "        destination_range_start = ranges[0]\n",
    "        source_range_start = ranges[1]\n",
    "        range_length = ranges[2]\n",
    "        map.append(\n",
    "            {\n",
    "                \"source_range_start\": int(source_range_start),\n",
    "                \"destination_range_start\": int(destination_range_start),\n",
    "                \"range_length\": int(range_length),\n",
    "            }\n",
    "        )\n",
    "    return map\n",
    "\n",
    "\n",
    "def get_maps(lines: list):\n",
    "    lines = [line for line in lines if line.strip()]\n",
    "    map_lines = {}\n",
    "    current_map = None\n",
    "\n",
    "    for line in lines:\n",
    "        if line.endswith(\"map:\"):\n",
    "            current_map = line.replace(\":\", \"\", 1).replace(\"-\", \"_\").replace(\" \", \"_\")\n",
    "            map_lines[current_map] = []\n",
    "        elif current_map is not None:\n",
    "            map_lines[current_map].append(line)\n",
    "\n",
    "    for k, v in map_lines.items():\n",
    "        map_lines[k] = convert_to_map_format(v)\n",
    "    return map_lines\n",
    "\n",
    "\n",
    "seeds = lines[0].split(\":\")[1].split()\n",
    "seeds = [int(seed) for seed in seeds]\n",
    "print(seeds)\n",
    "\n",
    "maps = get_maps(lines)\n",
    "\n",
    "seed_to_soil_map = maps[\"seed_to_soil_map\"]\n",
    "soil_to_fertilizer_map = maps[\"soil_to_fertilizer_map\"]\n",
    "fertilizer_to_water_map = maps[\"fertilizer_to_water_map\"]\n",
    "water_to_light_map = maps[\"water_to_light_map\"]\n",
    "light_to_temperature_map = maps[\"light_to_temperature_map\"]\n",
    "temperature_to_humidity_map = maps[\"temperature_to_humidity_map\"]\n",
    "humidity_to_location_map = maps[\"humidity_to_location_map\"]\n",
    "\n",
    "print(water_to_light_map)"
   ]
  },
  {
   "cell_type": "code",
   "execution_count": 22,
   "metadata": {},
   "outputs": [
    {
     "name": "stdout",
     "output_type": "stream",
     "text": [
      "{'seed_to_soil_map': [{'source_range_start': 98, 'destination_range_start': 50, 'range_length': 2}, {'source_range_start': 50, 'destination_range_start': 52, 'range_length': 48}], 'soil_to_fertilizer_map': [{'source_range_start': 15, 'destination_range_start': 0, 'range_length': 37}, {'source_range_start': 52, 'destination_range_start': 37, 'range_length': 2}, {'source_range_start': 0, 'destination_range_start': 39, 'range_length': 15}], 'fertilizer_to_water_map': [{'source_range_start': 53, 'destination_range_start': 49, 'range_length': 8}, {'source_range_start': 11, 'destination_range_start': 0, 'range_length': 42}, {'source_range_start': 0, 'destination_range_start': 42, 'range_length': 7}, {'source_range_start': 7, 'destination_range_start': 57, 'range_length': 4}], 'water_to_light_map': [{'source_range_start': 18, 'destination_range_start': 88, 'range_length': 7}, {'source_range_start': 25, 'destination_range_start': 18, 'range_length': 70}], 'light_to_temperature_map': [{'source_range_start': 77, 'destination_range_start': 45, 'range_length': 23}, {'source_range_start': 45, 'destination_range_start': 81, 'range_length': 19}, {'source_range_start': 64, 'destination_range_start': 68, 'range_length': 13}], 'temperature_to_humidity_map': [{'source_range_start': 69, 'destination_range_start': 0, 'range_length': 1}, {'source_range_start': 0, 'destination_range_start': 1, 'range_length': 69}], 'humidity_to_location_map': [{'source_range_start': 56, 'destination_range_start': 60, 'range_length': 37}, {'source_range_start': 93, 'destination_range_start': 56, 'range_length': 4}]}\n",
      "81\n",
      "14\n",
      "57\n",
      "13\n"
     ]
    }
   ],
   "source": [
    "def translate(source_value: int, map: list) -> int:\n",
    "    for r in map:\n",
    "        source_range_start = r[\"source_range_start\"]\n",
    "        source_range_end = r[\"source_range_start\"] + r[\"range_length\"]\n",
    "        if source_value < source_range_start or source_value > source_range_end:\n",
    "            continue\n",
    "        for value in range(source_range_start, source_range_end):\n",
    "            if source_value == value:\n",
    "                return r[\"destination_range_start\"] - source_range_start + value\n",
    "    return source_value\n",
    "\n",
    "\n",
    "test_lines = \"\"\"\n",
    "seeds: 79 14 55 13\n",
    "\n",
    "seed-to-soil map:\n",
    "50 98 2\n",
    "52 50 48\n",
    "\n",
    "soil-to-fertilizer map:\n",
    "0 15 37\n",
    "37 52 2\n",
    "39 0 15\n",
    "\n",
    "fertilizer-to-water map:\n",
    "49 53 8\n",
    "0 11 42\n",
    "42 0 7\n",
    "57 7 4\n",
    "\n",
    "water-to-light map:\n",
    "88 18 7\n",
    "18 25 70\n",
    "\n",
    "light-to-temperature map:\n",
    "45 77 23\n",
    "81 45 19\n",
    "68 64 13\n",
    "\n",
    "temperature-to-humidity map:\n",
    "0 69 1\n",
    "1 0 69\n",
    "\n",
    "humidity-to-location map:\n",
    "60 56 37\n",
    "56 93 4\n",
    "\"\"\".strip().split(\n",
    "    \"\\n\"\n",
    ")\n",
    "\n",
    "test_maps = get_maps(test_lines)\n",
    "print(test_maps)\n",
    "\n",
    "# Seed number 79 corresponds to soil number 81.\n",
    "# Seed number 14 corresponds to soil number 14.\n",
    "# Seed number 55 corresponds to soil number 57.\n",
    "# Seed number 13 corresponds to soil number 13.\n",
    "print(translate(79, test_maps[\"seed_to_soil_map\"]))\n",
    "print(translate(14, test_maps[\"seed_to_soil_map\"]))\n",
    "print(translate(55, test_maps[\"seed_to_soil_map\"]))\n",
    "print(translate(13, test_maps[\"seed_to_soil_map\"]))"
   ]
  },
  {
   "cell_type": "code",
   "execution_count": null,
   "metadata": {},
   "outputs": [],
   "source": [
    "def get_location_from_seed(seed, maps):\n",
    "    print(f\"Starting processing {seed}\")\n",
    "    current_value = seed\n",
    "    for map_name, map in maps.items():\n",
    "        print(f\"Starting processing {map_name}\")\n",
    "        current_value = translate(current_value, map)\n",
    "    print(f\"Finished processing {seed}. Got {current_value}\")\n",
    "    return current_value\n",
    "\n",
    "\n",
    "test_seeds = [79, 14, 55, 13]\n",
    "\n",
    "# locations = [get_location_from_seed(seed, maps) for seed in seeds]\n",
    "# print(min(locations))"
   ]
  },
  {
   "cell_type": "markdown",
   "metadata": {},
   "source": [
    "# Part 2"
   ]
  },
  {
   "cell_type": "code",
   "execution_count": 55,
   "metadata": {},
   "outputs": [],
   "source": [
    "with open(\"input.txt\", \"r\") as file:\n",
    "    data = file.read()\n",
    "# print(data[:500])"
   ]
  },
  {
   "cell_type": "code",
   "execution_count": 56,
   "metadata": {},
   "outputs": [
    {
     "data": {
      "text/plain": [
       "[{'start': 1636419363, 'end': 2245243551},\n",
       " {'start': 3409451394, 'end': 3636923143},\n",
       " {'start': 12950548, 'end': 104417250},\n",
       " {'start': 1003260108, 'end': 1228133810},\n",
       " {'start': 440703838, 'end': 631952314},\n",
       " {'start': 634347552, 'end': 909612056},\n",
       " {'start': 3673953799, 'end': 3741793472},\n",
       " {'start': 2442763622, 'end': 2679835230},\n",
       " {'start': 3766524590, 'end': 4192869420},\n",
       " {'start': 1433781343, 'end': 1587503764}]"
      ]
     },
     "execution_count": 56,
     "metadata": {},
     "output_type": "execute_result"
    }
   ],
   "source": [
    "def parse_seed_ranges(seed_line):\n",
    "    seed_values = list(map(int, seed_line.split()))\n",
    "    seed_ranges = [\n",
    "        (seed_values[i], seed_values[i + 1]) for i in range(0, len(seed_values), 2)\n",
    "    ]\n",
    "    seedIntervals = [\n",
    "        {\"start\": range[0], \"end\": range[0] + range[1] - 1} for range in seed_ranges\n",
    "    ]\n",
    "    return seedIntervals\n",
    "\n",
    "\n",
    "sections = data.split(\"\\n\\n\")\n",
    "seed_ranges = parse_seed_ranges(sections[0].split(\":\")[1].strip())\n",
    "seed_ranges"
   ]
  },
  {
   "cell_type": "code",
   "execution_count": 57,
   "metadata": {},
   "outputs": [
    {
     "name": "stdout",
     "output_type": "stream",
     "text": [
      "{'seed-to-soil map': [{'start': 0, 'end': 437867348, 'offset': 592307428}, {'start': 437867349, 'end': 662250707, 'offset': 1307786412}, {'start': 662250708, 'end': 1322507783, 'offset': 423145977}, {'start': 1322507784, 'end': 1345419957, 'offset': -292333007}, {'start': 1345419958, 'end': 1937727385, 'offset': -1345419958}, {'start': 1937727386, 'end': 1970037119, 'offset': -884640435}, {'start': 1970037120, 'end': 1975607603, 'offset': 0}, {'start': 1975607604, 'end': 2149527040, 'offset': 895089346}, {'start': 2149527041, 'end': 2167390151, 'offset': 1661550099}, {'start': 2167390152, 'end': 2321931403, 'offset': 1742166733}, {'start': 2321931404, 'end': 2446354471, 'offset': -254184696}, {'start': 2446354472, 'end': 2451131598, 'offset': -470746868}, {'start': 2451131599, 'end': 2472320404, 'offset': 593484788}, {'start': 2472320405, 'end': 2532239940, 'offset': -3488330}, {'start': 2532239941, 'end': 2612856574, 'offset': 1296700310}, {'start': 2612856575, 'end': 2700218551, 'offset': -632471844}, {'start': 2700218552, 'end': 2710901853, 'offset': 1584065442}, {'start': 2710901854, 'end': 2987564152, 'offset': -518732078}, {'start': 2987564153, 'end': 3323317282, 'offset': 393006406}, {'start': 3323317283, 'end': 3357841130, 'offset': 453236009}, {'start': 3357841131, 'end': 3453706533, 'offset': -583009584}, {'start': 3453706534, 'end': 3570082794, 'offset': 714201199}, {'start': 3570082795, 'end': 3630312397, 'offset': 146240894}, {'start': 3630312398, 'end': 3804196812, 'offset': -1029365266}, {'start': 3804196813, 'end': 3894936730, 'offset': 272971002}, {'start': 3894936731, 'end': 3908006408, 'offset': 169161406}, {'start': 3908006409, 'end': 4222771774, 'offset': -842201216}, {'start': 4222771775, 'end': 4294967295, 'offset': -1694020164}, {'start': 4294967296, 'end': inf, 'offset': 0}], 'soil-to-fertilizer map': [{'start': 0, 'end': 24799537, 'offset': 631757199}, {'start': 24799538, 'end': 251717264, 'offset': -24799538}, {'start': 251717265, 'end': 471425734, 'offset': 160331464}, {'start': 471425735, 'end': 539591143, 'offset': 185131002}, {'start': 539591144, 'end': 1002037272, 'offset': 212039413}, {'start': 1002037273, 'end': 1028945683, 'offset': -277315127}, {'start': 1028945684, 'end': 1214076685, 'offset': -802027957}, {'start': 1214076686, 'end': 1380852910, 'offset': 0}, {'start': 1380852911, 'end': 1423574608, 'offset': 664047737}, {'start': 1423574609, 'end': 2405551770, 'offset': 705652734}, {'start': 2405551771, 'end': 2464722725, 'offset': 988432605}, {'start': 2464722726, 'end': 2645077605, 'offset': 1404631842}, {'start': 2645077606, 'end': 2717223364, 'offset': 676761011}, {'start': 2717223365, 'end': 2927857476, 'offset': 393981140}, {'start': 2927857477, 'end': 3143711442, 'offset': -1547004566}, {'start': 3143711443, 'end': 3242535833, 'offset': 905998005}, {'start': 3242535834, 'end': 3658735070, 'offset': 210619497}, {'start': 3658735071, 'end': 3805168527, 'offset': 489798768}, {'start': 3805168528, 'end': 4253362298, 'offset': -2208461651}, {'start': 4253362299, 'end': 4294967295, 'offset': -2165739953}, {'start': 4294967296, 'end': inf, 'offset': 0}], 'fertilizer-to-water map': [{'start': 0, 'end': 36713255, 'offset': 482104460}, {'start': 36713256, 'end': 94856048, 'offset': 1233964204}, {'start': 94856049, 'end': 306138731, 'offset': -94856049}, {'start': 306138732, 'end': 346629036, 'offset': 918327503}, {'start': 346629037, 'end': 396085867, 'offset': 672358014}, {'start': 396085868, 'end': 399808116, 'offset': 122731848}, {'start': 399808117, 'end': 400043364, 'offset': 668635765}, {'start': 400043365, 'end': 411124037, 'offset': -188760682}, {'start': 411124038, 'end': 586932981, 'offset': 432054069}, {'start': 586932982, 'end': 592653901, 'offset': 678023558}, {'start': 592653902, 'end': 625833851, 'offset': 598632383}, {'start': 625833852, 'end': 782631827, 'offset': 702986401}, {'start': 782631828, 'end': 910768430, 'offset': -560268472}, {'start': 910768431, 'end': 947256496, 'offset': 574849798}, {'start': 947256497, 'end': 1069863651, 'offset': 121422633}, {'start': 1069863652, 'end': 1201468152, 'offset': -719363693}, {'start': 1201468153, 'end': 1522106294, 'offset': -678928188}, {'start': 1522106295, 'end': 1577782206, 'offset': 0}, {'start': 1577782207, 'end': 1648436633, 'offset': 1309680629}, {'start': 1648436634, 'end': 1761854235, 'offset': 1911112365}, {'start': 1761854236, 'end': 1791988936, 'offset': -27747662}, {'start': 1791988937, 'end': 1859496739, 'offset': 2206429434}, {'start': 1859496740, 'end': 2077230478, 'offset': 1921187892}, {'start': 2077230479, 'end': 2302611994, 'offset': 376489387}, {'start': 2302611995, 'end': 2324396805, 'offset': -455305308}, {'start': 2324396806, 'end': 2480721172, 'offset': -746614599}, {'start': 2480721173, 'end': 2497628210, 'offset': 1585205001}, {'start': 2497628211, 'end': 2642581971, 'offset': 1608453077}, {'start': 2642581972, 'end': 2810374322, 'offset': 631150247}, {'start': 2810374323, 'end': 2833622398, 'offset': 1272458889}, {'start': 2833622399, 'end': 2865790828, 'offset': -1027861625}, {'start': 2865790829, 'end': 2898500254, 'offset': 1396467041}, {'start': 2898500255, 'end': 3106861708, 'offset': -219398873}, {'start': 3106861709, 'end': 3691490076, 'offset': -1237770211}, {'start': 3691490077, 'end': 3700867559, 'offset': -1853560873}, {'start': 3700867560, 'end': 3808585590, 'offset': -27900959}, {'start': 3808585591, 'end': 3926610019, 'offset': -367061021}, {'start': 3926610020, 'end': 4242224975, 'offset': -968492757}, {'start': 4242224976, 'end': 4283744474, 'offset': -2477983701}, {'start': 4283744475, 'end': 4294967295, 'offset': -32709426}, {'start': 4294967296, 'end': inf, 'offset': 0}], 'water-to-light map': [{'start': 0, 'end': 650888869, 'offset': 1494375587}, {'start': 650888870, 'end': 971380843, 'offset': -483490755}, {'start': 971380844, 'end': 1174877355, 'offset': -12010909}, {'start': 1174877356, 'end': 1253174909, 'offset': -293804975}, {'start': 1253174910, 'end': 1301392288, 'offset': -765284821}, {'start': 1301392289, 'end': 1846205804, 'offset': 843872168}, {'start': 1846205805, 'end': 2191170717, 'offset': -1310098337}, {'start': 2191170718, 'end': 2207516326, 'offset': 498907255}, {'start': 2207516327, 'end': 2295971037, 'offset': -2128572923}, {'start': 2295971038, 'end': 2627480177, 'offset': -1133104591}, {'start': 2627480178, 'end': 2706423581, 'offset': -2627480178}, {'start': 2706423582, 'end': 2743705058, 'offset': 0}, {'start': 2743705059, 'end': 3438054297, 'offset': 856912998}, {'start': 3438054298, 'end': 3739636429, 'offset': -691335295}, {'start': 3739636430, 'end': 3742650373, 'offset': -995931371}, {'start': 3742650374, 'end': 4019203059, 'offset': -418585003}, {'start': 4019203060, 'end': 4294967295, 'offset': -970901925}, {'start': 4294967296, 'end': inf, 'offset': 0}], 'light-to-temperature map': [{'start': 0, 'end': 47027821, 'offset': 2255654862}, {'start': 47027822, 'end': 232213447, 'offset': 3635783421}, {'start': 232213448, 'end': 1312743836, 'offset': 718166883}, {'start': 1312743837, 'end': 1926340323, 'offset': 1756470919}, {'start': 1926340324, 'end': 1980704787, 'offset': 895522822}, {'start': 1980704788, 'end': 2382183978, 'offset': 439679167}, {'start': 2382183979, 'end': 2499885249, 'offset': -79501295}, {'start': 2499885250, 'end': 3450265580, 'offset': -2499885250}, {'start': 3450265581, 'end': 3468116803, 'offset': -574037971}, {'start': 3468116804, 'end': 3501040877, 'offset': -1245386016}, {'start': 3501040878, 'end': 3692860945, 'offset': -1470130158}, {'start': 3692860946, 'end': 3827798939, 'offset': -758584184}, {'start': 3827798940, 'end': 3867996868, 'offset': -933720107}, {'start': 3867996869, 'end': inf, 'offset': 0}], 'temperature-to-humidity map': [{'start': 0, 'end': 1042444228, 'offset': 0}, {'start': 1042444229, 'end': 1837449678, 'offset': 1232352743}, {'start': 1837449679, 'end': 2152529658, 'offset': 2142437637}, {'start': 2152529659, 'end': 2657517972, 'offset': 1322369343}, {'start': 2657517973, 'end': 3704952647, 'offset': -1430155676}, {'start': 3704952648, 'end': 4110049227, 'offset': -635150226}, {'start': 4110049228, 'end': 4294967295, 'offset': -3067604999}, {'start': 4294967296, 'end': inf, 'offset': 0}], 'humidity-to-location map': [{'start': 0, 'end': 26879536, 'offset': 0}, {'start': 26879537, 'end': 41300578, 'offset': 291136688}, {'start': 41300579, 'end': 59735377, 'offset': 258280847}, {'start': 59735378, 'end': 257857700, 'offset': 361820942}, {'start': 257857701, 'end': 458275376, 'offset': -158693951}, {'start': 458275377, 'end': 547394429, 'offset': -125838110}, {'start': 547394430, 'end': 567441865, 'offset': -468278116}, {'start': 567441866, 'end': 619678642, 'offset': -540562329}, {'start': 619678643, 'end': 769712434, 'offset': 0}, {'start': 769712435, 'end': 771777628, 'offset': 2383776036}, {'start': 771777629, 'end': 870234078, 'offset': 383950123}, {'start': 870234079, 'end': 896350740, 'offset': 1817162350}, {'start': 896350741, 'end': 1059609269, 'offset': 2430783771}, {'start': 1059609270, 'end': 1194301284, 'offset': 3100666011}, {'start': 1194301285, 'end': 1213908248, 'offset': 59882917}, {'start': 1213908249, 'end': 1219376321, 'offset': 1798412466}, {'start': 1219376322, 'end': 1290456089, 'offset': 1574879729}, {'start': 1290456090, 'end': 1298602901, 'offset': 1951301272}, {'start': 1298602902, 'end': 1388663284, 'offset': 377634420}, {'start': 1388663285, 'end': 1404360794, 'offset': 1476672534}, {'start': 1404360795, 'end': 1463902629, 'offset': 1309152296}, {'start': 1463902630, 'end': 1475899778, 'offset': -403106693}, {'start': 1475899779, 'end': 1506951607, 'offset': 318214820}, {'start': 1506951608, 'end': 1528152732, 'offset': 1266103318}, {'start': 1528152733, 'end': 1533513118, 'offset': 238144972}, {'start': 1533513119, 'end': 1669212801, 'offset': 1484275669}, {'start': 1669212802, 'end': 1775591970, 'offset': 1236728744}, {'start': 1775591971, 'end': 1890601527, 'offset': -289087653}, {'start': 1890601528, 'end': 2089694969, 'offset': 1623902873}, {'start': 2089694970, 'end': 2166925307, 'offset': 1160209204}, {'start': 2166925308, 'end': 2253129004, 'offset': 988628357}, {'start': 2253129005, 'end': 2327852451, 'offset': -651615130}, {'start': 2327852452, 'end': 2459841971, 'offset': -1054061286}, {'start': 2459841972, 'end': 2466121454, 'offset': -979617137}, {'start': 2466121455, 'end': 2488577962, 'offset': -694463364}, {'start': 2488577963, 'end': 2571512628, 'offset': -1415784877}, {'start': 2571512629, 'end': 2595623988, 'offset': 918880412}, {'start': 2595623989, 'end': 3042301426, 'offset': 1117973854}, {'start': 3042301427, 'end': 3067209643, 'offset': -161268098}, {'start': 3067209644, 'end': 3214887892, 'offset': -2237151733}, {'start': 3214887893, 'end': 3289332041, 'offset': -1809107207}, {'start': 3289332042, 'end': 3470643461, 'offset': -1464165614}, {'start': 3470643462, 'end': 3530988937, 'offset': -2700931027}, {'start': 3530988938, 'end': 4211907518, 'offset': -1524511090}, {'start': 4211907519, 'end': 4294967295, 'offset': -3234171359}, {'start': 4294967296, 'end': inf, 'offset': 0}]}\n"
     ]
    }
   ],
   "source": [
    "def parse_mappings(mapping_data):\n",
    "    mappings = []\n",
    "    for line in mapping_data.split(\"\\n\"):\n",
    "        if line.strip():\n",
    "            dest_start, src_start, range_length = map(int, line.split())\n",
    "            mappings.append(\n",
    "                {\n",
    "                    \"start\": src_start,\n",
    "                    \"end\": src_start + range_length - 1,\n",
    "                    \"offset\": dest_start - src_start,\n",
    "                }\n",
    "            )\n",
    "    mappings.sort(key=lambda x: x[\"start\"])\n",
    "\n",
    "    # merge negihboring intervals\n",
    "    merged_mappings = []\n",
    "    for mapping in mappings:\n",
    "        if not merged_mappings:\n",
    "            # Make sure the first mapping starts at 0\n",
    "            if mapping[\"start\"] != 0:\n",
    "                merged_mappings.append(\n",
    "                    {\n",
    "                        \"start\": 0,\n",
    "                        \"end\": mapping[\"start\"] - 1,\n",
    "                        \"offset\": 0,\n",
    "                    }\n",
    "                )\n",
    "            merged_mappings.append(mapping)\n",
    "        else:\n",
    "            last_mapping = merged_mappings[-1]\n",
    "            if (\n",
    "                last_mapping[\"end\"] + 1 == mapping[\"start\"]\n",
    "                and last_mapping[\"offset\"] == mapping[\"offset\"]\n",
    "            ):\n",
    "                last_mapping[\"end\"] = mapping[\"end\"]\n",
    "            elif last_mapping[\"end\"] + 1 < mapping[\"start\"]:\n",
    "                # if there is a gap between the last mapping and the current one, fill it with a mapping that does nothing\n",
    "                merged_mappings.append(\n",
    "                    {\n",
    "                        \"start\": last_mapping[\"end\"] + 1,\n",
    "                        \"end\": mapping[\"start\"] - 1,\n",
    "                        \"offset\": 0,\n",
    "                    }\n",
    "                )\n",
    "                merged_mappings.append(mapping)\n",
    "            else:\n",
    "                merged_mappings.append(mapping)\n",
    "    merged_mappings.extend(\n",
    "        [\n",
    "            {\n",
    "                \"start\": merged_mappings[-1][\"end\"] + 1,\n",
    "                \"end\": float(\"inf\"),\n",
    "                \"offset\": 0,\n",
    "            }\n",
    "        ]\n",
    "    )\n",
    "    return merged_mappings\n",
    "\n",
    "\n",
    "mappings_all = {\n",
    "    sections[i].split(\":\\n\")[0]: parse_mappings(sections[i].split(\":\\n\")[1])\n",
    "    for i in range(1, 8)\n",
    "}\n",
    "\n",
    "print(mappings_all)"
   ]
  },
  {
   "cell_type": "code",
   "execution_count": null,
   "metadata": {},
   "outputs": [],
   "source": [
    "def process_mapper_interval(seed_range, mapper):\n",
    "    current = seed_range.copy()\n",
    "    results = []\n",
    "    for mapping in mapper:\n",
    "        if mapping[\"end\"] < current[\"start\"]:\n",
    "            continue\n",
    "        end = min(mapping[\"end\"], current[\"end\"])\n",
    "        results.append(\n",
    "            {\n",
    "                \"start\": current[\"start\"] + mapping[\"offset\"],\n",
    "                \"end\": end + mapping[\"offset\"],\n",
    "            }\n",
    "        )\n",
    "        current[\"start\"] = end + 1\n",
    "        if current[\"start\"] > current[\"end\"]:\n",
    "            break\n",
    "\n",
    "    return results\n",
    "\n",
    "\n",
    "def get_location_intervals_from_seed_range(seed_range, mappings_all):\n",
    "    # print(f\"Starting processing {seed_range}\")\n",
    "    results = [seed_range.copy()]\n",
    "    for map_name, mappings in mappings_all.items():\n",
    "        new_results = []\n",
    "        for result in results:\n",
    "            new_results.extend(process_mapper_interval(result, mappings))\n",
    "        results = new_results\n",
    "    # print(f\"Finished processing {seed_range}. Got {len(results)} ranges\")\n",
    "    return results\n",
    "\n",
    "\n",
    "location_ranges = []\n",
    "for seed_range in seed_ranges:\n",
    "    print(seed_range)\n",
    "    location_ranges.extend(\n",
    "        get_location_intervals_from_seed_range(seed_range, mappings_all)\n",
    "    )\n",
    "location_ranges.sort(key=lambda x: x[\"start\"])\n",
    "location_ranges"
   ]
  }
 ],
 "metadata": {
  "kernelspec": {
   "display_name": "myenv",
   "language": "python",
   "name": "python3"
  },
  "language_info": {
   "codemirror_mode": {
    "name": "ipython",
    "version": 3
   },
   "file_extension": ".py",
   "mimetype": "text/x-python",
   "name": "python",
   "nbconvert_exporter": "python",
   "pygments_lexer": "ipython3",
   "version": "3.11.6"
  }
 },
 "nbformat": 4,
 "nbformat_minor": 2
}
