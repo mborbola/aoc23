{
 "cells": [
  {
   "cell_type": "code",
   "execution_count": 1,
   "metadata": {},
   "outputs": [
    {
     "name": "stdout",
     "output_type": "stream",
     "text": [
      "seeds: 1636419363 608824189 3409451394 227471750 12950548 91466703 1003260108 224873703 440703838 191248477 634347552 275264505 3673953799 67839674 2442763622 237071609 3766524590 426344831 1433781343 153722422\n",
      "\n",
      "seed-to-soil map:\n",
      "2067746708 2321931404 124423068\n",
      "2774831547 3357841131 95865403\n",
      "3776553292 3323317283 34523848\n",
      "4167907733 3453706534 116376261\n",
      "1190847573 767701596 554806188\n",
      "2870696950 1975607604 173919437\n",
      "1980384731 2612856575 87361977\n",
      "3380570559 2987564153 335753130\n",
      "3044616387 2451131\n"
     ]
    }
   ],
   "source": [
    "file_path = 'input.txt'\n",
    "\n",
    "with open(file_path, 'r') as file:\n",
    "    data = file.read()\n",
    "\n",
    "print(data[:500])"
   ]
  },
  {
   "cell_type": "code",
   "execution_count": 3,
   "metadata": {},
   "outputs": [],
   "source": [
    "# First, let's write a function to parse the mappings\n",
    "\n",
    "def parse_mapping(mapping_data):\n",
    "    \"\"\"\n",
    "    Parses the mapping data from the input file and returns a dictionary\n",
    "    where each key is a source number and its value is the corresponding destination number.\n",
    "    \"\"\"\n",
    "    mapping = {}\n",
    "    for line in mapping_data.split('\\n'):\n",
    "        if line.strip():\n",
    "            dest_start, src_start, range_length = map(int, line.split())\n",
    "            for i in range(range_length):\n",
    "                mapping[src_start + i] = dest_start + i\n",
    "\n",
    "    return mapping\n",
    "\n",
    "# Now, let's process the entire file and apply the mappings\n",
    "\n",
    "def process_data(data):\n",
    "    \"\"\"\n",
    "    Processes the entire data from the file, applying the mappings to find the lowest location number.\n",
    "    \"\"\"\n",
    "    sections = data.split('\\n\\n')  # Splitting the data into sections based on double newlines\n",
    "    seeds = list(map(int, sections[0].split(':')[1].strip().split()))  # Parsing the seeds\n",
    "\n",
    "    # Parsing and storing each mapping\n",
    "    seed_to_soil = parse_mapping(sections[1].split(':\\n')[1])\n",
    "    soil_to_fertilizer = parse_mapping(sections[2].split(':\\n')[1])\n",
    "    fertilizer_to_water = parse_mapping(sections[3].split(':\\n')[1])\n",
    "    water_to_light = parse_mapping(sections[4].split(':\\n')[1])\n",
    "    light_to_temperature = parse_mapping(sections[5].split(':\\n')[1])\n",
    "    temperature_to_humidity = parse_mapping(sections[6].split(':\\n')[1])\n",
    "    humidity_to_location = parse_mapping(sections[7].split(':\\n')[1])\n",
    "\n",
    "    # Function to apply a single mapping\n",
    "    def apply_mapping(number, mapping):\n",
    "        return mapping.get(number, number)  # If not in mapping, number stays the same\n",
    "\n",
    "    # Applying all mappings to each seed and finding the lowest location number\n",
    "    lowest_location = float('inf')\n",
    "    for seed in seeds:\n",
    "        soil = apply_mapping(seed, seed_to_soil)\n",
    "        fertilizer = apply_mapping(soil, soil_to_fertilizer)\n",
    "        water = apply_mapping(fertilizer, fertilizer_to_water)\n",
    "        light = apply_mapping(water, water_to_light)\n",
    "        temperature = apply_mapping(light, light_to_temperature)\n",
    "        humidity = apply_mapping(temperature, temperature_to_humidity)\n",
    "        location = apply_mapping(humidity, humidity_to_location)\n",
    "\n",
    "        lowest_location = min(lowest_location, location)\n",
    "\n",
    "    return lowest_location\n",
    "\n",
    "# Now, let's process the data and find the result\n",
    "# lowest_location_number = process_data(data)\n",
    "# lowest_location_number"
   ]
  },
  {
   "cell_type": "code",
   "execution_count": 4,
   "metadata": {},
   "outputs": [
    {
     "data": {
      "text/plain": [
       "309796150"
      ]
     },
     "execution_count": 4,
     "metadata": {},
     "output_type": "execute_result"
    }
   ],
   "source": [
    "def find_destination_number(source_number, mapping_data):\n",
    "    \"\"\"\n",
    "    Finds the destination number for a given source number using the provided mapping data.\n",
    "    If the source number is not explicitly mapped, it returns the source number itself.\n",
    "    \"\"\"\n",
    "    for line in mapping_data.split('\\n'):\n",
    "        if line.strip():\n",
    "            dest_start, src_start, range_length = map(int, line.split())\n",
    "            if src_start <= source_number < src_start + range_length:\n",
    "                # Calculate the offset from the start of the source range\n",
    "                offset = source_number - src_start\n",
    "                return dest_start + offset\n",
    "    return source_number  # Return the source number if not in any range\n",
    "\n",
    "def process_seeds(data):\n",
    "    \"\"\"\n",
    "    Processes the seeds through each category mapping to find the lowest location number.\n",
    "    \"\"\"\n",
    "    sections = data.split('\\n\\n')\n",
    "    seeds = list(map(int, sections[0].split(':')[1].strip().split()))\n",
    "\n",
    "    # Extracting the mapping data for each category\n",
    "    mappings = [section.split(':\\n')[1] for section in sections[1:]]\n",
    "\n",
    "    lowest_location = float('inf')\n",
    "    for seed in seeds:\n",
    "        current_number = seed\n",
    "        for mapping_data in mappings:\n",
    "            current_number = find_destination_number(current_number, mapping_data)\n",
    "        lowest_location = min(lowest_location, current_number)\n",
    "\n",
    "    return lowest_location\n",
    "\n",
    "# Process the seeds and find the lowest location number\n",
    "lowest_location_number = process_seeds(data)\n",
    "lowest_location_number"
   ]
  }
 ],
 "metadata": {
  "kernelspec": {
   "display_name": "myenv",
   "language": "python",
   "name": "python3"
  },
  "language_info": {
   "codemirror_mode": {
    "name": "ipython",
    "version": 3
   },
   "file_extension": ".py",
   "mimetype": "text/x-python",
   "name": "python",
   "nbconvert_exporter": "python",
   "pygments_lexer": "ipython3",
   "version": "3.11.6"
  }
 },
 "nbformat": 4,
 "nbformat_minor": 2
}
